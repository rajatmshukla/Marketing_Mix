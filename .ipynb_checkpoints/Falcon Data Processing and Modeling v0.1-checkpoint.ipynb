{
 "cells": [
  {
   "cell_type": "code",
   "execution_count": 56,
   "id": "419ba9c0",
   "metadata": {},
   "outputs": [],
   "source": [
    "library(data.table)\n",
    "library(dplyr)\n",
    "library(stringr)\n",
    "library(stringi)\n",
    "library(rio)\n",
    "library(readxl)\n",
    "library(writexl)\n",
    "library(readr)\n",
    "library(readxlsb)\n",
    "library(data.table)\n",
    "library(plyr)\n",
    "library(lubridate)\n",
    "library(reshape2)\n",
    "library(anytime)\n",
    "library(arrow)\n",
    "library(openxlsx)\n",
    "library(tidyverse)\n",
    "library(broom)\n",
    "library(ggcorrplot)\n",
    "library(DataExplorer)\n",
    "library(anytime)\n",
    "library(olsrr)\n",
    "library(zoo)"
   ]
  },
  {
   "cell_type": "markdown",
   "id": "9b3d82e3",
   "metadata": {},
   "source": [
    "### Reading Data"
   ]
  },
  {
   "cell_type": "code",
   "execution_count": 57,
   "id": "9acb19e4",
   "metadata": {},
   "outputs": [
    {
     "name": "stderr",
     "output_type": "stream",
     "text": [
      "\u001b[1m\u001b[22mNew names:\n",
      "\u001b[36m•\u001b[39m `` -> `...44`\n"
     ]
    }
   ],
   "source": [
    "db_calls <- read_excel(\"Falcon PR Results v0.1.xlsx\",sheet=\"Calls\")\n",
    "db_sales <- read_excel(\"Falcon PR Results v0.1.xlsx\",sheet=\"Sales\")\n",
    "setDT(db_calls)\n",
    "setDT(db_sales)\n",
    "\n",
    "patient_count <- read_excel(\"Cancer Patients.xlsx\")\n",
    "setDT(patient_count)"
   ]
  },
  {
   "cell_type": "markdown",
   "id": "dc346059",
   "metadata": {},
   "source": [
    "### Data Processing"
   ]
  },
  {
   "cell_type": "code",
   "execution_count": 58,
   "id": "88975fa2",
   "metadata": {
    "scrolled": false
   },
   "outputs": [
    {
     "data": {
      "text/html": [
       "<table class=\"dataframe\">\n",
       "<caption>A data.frame: 2 × 5</caption>\n",
       "<thead>\n",
       "\t<tr><th></th><th scope=col>NPI</th><th scope=col>Segment</th><th scope=col>Date</th><th scope=col>Sales</th><th scope=col>Week1</th></tr>\n",
       "\t<tr><th></th><th scope=col>&lt;dbl&gt;</th><th scope=col>&lt;chr&gt;</th><th scope=col>&lt;chr&gt;</th><th scope=col>&lt;dbl&gt;</th><th scope=col>&lt;date&gt;</th></tr>\n",
       "</thead>\n",
       "<tbody>\n",
       "\t<tr><th scope=row>1</th><td>3854648575</td><td>Low </td><td>44785</td><td>0</td><td>2022-08-12</td></tr>\n",
       "\t<tr><th scope=row>2</th><td>6597938497</td><td>High</td><td>44785</td><td>0</td><td>2022-08-12</td></tr>\n",
       "</tbody>\n",
       "</table>\n"
      ],
      "text/latex": [
       "A data.frame: 2 × 5\n",
       "\\begin{tabular}{r|lllll}\n",
       "  & NPI & Segment & Date & Sales & Week1\\\\\n",
       "  & <dbl> & <chr> & <chr> & <dbl> & <date>\\\\\n",
       "\\hline\n",
       "\t1 & 3854648575 & Low  & 44785 & 0 & 2022-08-12\\\\\n",
       "\t2 & 6597938497 & High & 44785 & 0 & 2022-08-12\\\\\n",
       "\\end{tabular}\n"
      ],
      "text/markdown": [
       "\n",
       "A data.frame: 2 × 5\n",
       "\n",
       "| <!--/--> | NPI &lt;dbl&gt; | Segment &lt;chr&gt; | Date &lt;chr&gt; | Sales &lt;dbl&gt; | Week1 &lt;date&gt; |\n",
       "|---|---|---|---|---|---|\n",
       "| 1 | 3854648575 | Low  | 44785 | 0 | 2022-08-12 |\n",
       "| 2 | 6597938497 | High | 44785 | 0 | 2022-08-12 |\n",
       "\n"
      ],
      "text/plain": [
       "  NPI        Segment Date  Sales Week1     \n",
       "1 3854648575 Low     44785 0     2022-08-12\n",
       "2 6597938497 High    44785 0     2022-08-12"
      ]
     },
     "metadata": {},
     "output_type": "display_data"
    },
    {
     "data": {
      "text/plain": [
       "      NPI              Segment              Date               Sales         \n",
       " Min.   :1.001e+09   Length:552084      Length:552084      Min.   : 0.00000  \n",
       " 1st Qu.:3.243e+09   Class :character   Class :character   1st Qu.: 0.00000  \n",
       " Median :5.475e+09   Mode  :character   Mode  :character   Median : 0.00000  \n",
       " Mean   :5.479e+09                                         Mean   : 0.08169  \n",
       " 3rd Qu.:7.726e+09                                         3rd Qu.: 0.00000  \n",
       " Max.   :9.999e+09                                         Max.   :26.07100  \n",
       "     Week1           \n",
       " Min.   :2022-08-12  \n",
       " 1st Qu.:2022-10-14  \n",
       " Median :2022-12-23  \n",
       " Mean   :2022-12-23  \n",
       " 3rd Qu.:2023-03-03  \n",
       " Max.   :2023-05-05  "
      ]
     },
     "metadata": {},
     "output_type": "display_data"
    }
   ],
   "source": [
    "#Sales Data Gathering\n",
    "db_sales_1 <- gather(db_sales, key = \"Date\", value = \"Sales\", `44785`:`45051`)\n",
    "db_sales_1$Week1 <- as.Date(as.numeric(db_sales_1$Date), origin = \"1899-12-30\")\n",
    "head(db_sales_1,2)\n",
    "summary(db_sales_1)"
   ]
  },
  {
   "cell_type": "code",
   "execution_count": 59,
   "id": "5692cfa5",
   "metadata": {},
   "outputs": [
    {
     "data": {
      "text/html": [
       "<table class=\"dataframe\">\n",
       "<caption>A data.frame: 2 × 6</caption>\n",
       "<thead>\n",
       "\t<tr><th></th><th scope=col>NPI</th><th scope=col>Segment</th><th scope=col>...44</th><th scope=col>Date</th><th scope=col>Calls</th><th scope=col>Week1</th></tr>\n",
       "\t<tr><th></th><th scope=col>&lt;dbl&gt;</th><th scope=col>&lt;chr&gt;</th><th scope=col>&lt;dbl&gt;</th><th scope=col>&lt;chr&gt;</th><th scope=col>&lt;dbl&gt;</th><th scope=col>&lt;date&gt;</th></tr>\n",
       "</thead>\n",
       "<tbody>\n",
       "\t<tr><th scope=row>1</th><td>3854648575</td><td>Low </td><td>3</td><td>44771</td><td>0</td><td>2022-07-29</td></tr>\n",
       "\t<tr><th scope=row>2</th><td>6597938497</td><td>High</td><td>7</td><td>44771</td><td>0</td><td>2022-07-29</td></tr>\n",
       "</tbody>\n",
       "</table>\n"
      ],
      "text/latex": [
       "A data.frame: 2 × 6\n",
       "\\begin{tabular}{r|llllll}\n",
       "  & NPI & Segment & ...44 & Date & Calls & Week1\\\\\n",
       "  & <dbl> & <chr> & <dbl> & <chr> & <dbl> & <date>\\\\\n",
       "\\hline\n",
       "\t1 & 3854648575 & Low  & 3 & 44771 & 0 & 2022-07-29\\\\\n",
       "\t2 & 6597938497 & High & 7 & 44771 & 0 & 2022-07-29\\\\\n",
       "\\end{tabular}\n"
      ],
      "text/markdown": [
       "\n",
       "A data.frame: 2 × 6\n",
       "\n",
       "| <!--/--> | NPI &lt;dbl&gt; | Segment &lt;chr&gt; | ...44 &lt;dbl&gt; | Date &lt;chr&gt; | Calls &lt;dbl&gt; | Week1 &lt;date&gt; |\n",
       "|---|---|---|---|---|---|---|\n",
       "| 1 | 3854648575 | Low  | 3 | 44771 | 0 | 2022-07-29 |\n",
       "| 2 | 6597938497 | High | 7 | 44771 | 0 | 2022-07-29 |\n",
       "\n"
      ],
      "text/plain": [
       "  NPI        Segment ...44 Date  Calls Week1     \n",
       "1 3854648575 Low     3     44771 0     2022-07-29\n",
       "2 6597938497 High    7     44771 0     2022-07-29"
      ]
     },
     "metadata": {},
     "output_type": "display_data"
    },
    {
     "data": {
      "text/plain": [
       "      NPI              Segment              ...44            Date          \n",
       " Min.   :1.001e+09   Length:580396      Min.   : 0.000   Length:580396     \n",
       " 1st Qu.:3.243e+09   Class :character   1st Qu.: 2.000   Class :character  \n",
       " Median :5.475e+09   Mode  :character   Median : 4.000   Mode  :character  \n",
       " Mean   :5.479e+09                      Mean   : 5.785                     \n",
       " 3rd Qu.:7.726e+09                      3rd Qu.: 8.000                     \n",
       " Max.   :9.999e+09                      Max.   :69.000                     \n",
       "     Calls            Week1           \n",
       " Min.   :0.0000   Min.   :2022-07-29  \n",
       " 1st Qu.:0.0000   1st Qu.:2022-10-07  \n",
       " Median :0.0000   Median :2022-12-16  \n",
       " Mean   :0.1411   Mean   :2022-12-16  \n",
       " 3rd Qu.:0.0000   3rd Qu.:2023-02-24  \n",
       " Max.   :6.0000   Max.   :2023-05-05  "
      ]
     },
     "metadata": {},
     "output_type": "display_data"
    }
   ],
   "source": [
    "#Calls Data Gathering\n",
    "db_calls_1 <- gather(db_calls, key = \"Date\", value = \"Calls\", `44771`:`45051`)\n",
    "db_calls_1$Week1 <- as.Date(as.numeric(db_calls_1$Date), origin = \"1899-12-30\")\n",
    "head(db_calls_1,2)\n",
    "summary(db_calls_1)"
   ]
  },
  {
   "cell_type": "code",
   "execution_count": 60,
   "id": "66d06246",
   "metadata": {},
   "outputs": [
    {
     "data": {
      "text/html": [
       "<table class=\"dataframe\">\n",
       "<caption>A data.table: 2 × 3</caption>\n",
       "<thead>\n",
       "\t<tr><th scope=col>Month</th><th scope=col>Patients</th><th scope=col>YRMO</th></tr>\n",
       "\t<tr><th scope=col>&lt;dttm&gt;</th><th scope=col>&lt;dbl&gt;</th><th scope=col>&lt;dbl&gt;</th></tr>\n",
       "</thead>\n",
       "<tbody>\n",
       "\t<tr><td>2022-01-01</td><td>164200</td><td>202201</td></tr>\n",
       "\t<tr><td>2022-02-01</td><td>159800</td><td>202202</td></tr>\n",
       "</tbody>\n",
       "</table>\n"
      ],
      "text/latex": [
       "A data.table: 2 × 3\n",
       "\\begin{tabular}{lll}\n",
       " Month & Patients & YRMO\\\\\n",
       " <dttm> & <dbl> & <dbl>\\\\\n",
       "\\hline\n",
       "\t 2022-01-01 & 164200 & 202201\\\\\n",
       "\t 2022-02-01 & 159800 & 202202\\\\\n",
       "\\end{tabular}\n"
      ],
      "text/markdown": [
       "\n",
       "A data.table: 2 × 3\n",
       "\n",
       "| Month &lt;dttm&gt; | Patients &lt;dbl&gt; | YRMO &lt;dbl&gt; |\n",
       "|---|---|---|\n",
       "| 2022-01-01 | 164200 | 202201 |\n",
       "| 2022-02-01 | 159800 | 202202 |\n",
       "\n"
      ],
      "text/plain": [
       "  Month      Patients YRMO  \n",
       "1 2022-01-01 164200   202201\n",
       "2 2022-02-01 159800   202202"
      ]
     },
     "metadata": {},
     "output_type": "display_data"
    }
   ],
   "source": [
    "patient_count$YRMO <- as.numeric(format(patient_count$Month, \"%Y%m\"))\n",
    "head(patient_count,2)"
   ]
  },
  {
   "cell_type": "code",
   "execution_count": 61,
   "id": "bf05d326",
   "metadata": {},
   "outputs": [],
   "source": [
    "mdb_a <- merge(x=db_sales_1,y=db_calls_1,by=c(\"NPI\",\"Segment\",\"Week1\",\"Date\"),all=T)\n",
    "mdb_a$Date <- NULL\n",
    "mdb_a$YRMO <- as.numeric(format(mdb_a$Week, \"%Y%m\"))\n",
    "mdb_a$Quarter <- as.yearqtr(mdb_a$Week)\n",
    "mdb_a[is.na(mdb_a)] <- 0\n",
    "mdb <- setDT(copy(mdb_a))"
   ]
  },
  {
   "cell_type": "code",
   "execution_count": 63,
   "id": "af6e6aa1",
   "metadata": {},
   "outputs": [
    {
     "data": {
      "text/html": [
       "<style>\n",
       ".dl-inline {width: auto; margin:0; padding: 0}\n",
       ".dl-inline>dt, .dl-inline>dd {float: none; width: auto; display: inline-block}\n",
       ".dl-inline>dt::after {content: \":\\0020\"; padding-right: .5ex}\n",
       ".dl-inline>dt:not(:first-of-type) {padding-left: .5ex}\n",
       "</style><dl class=dl-inline><dt>NPI</dt><dd>3025120125717651</dd><dt>Sales</dt><dd>45100.815</dd></dl>\n"
      ],
      "text/latex": [
       "\\begin{description*}\n",
       "\\item[NPI] 3025120125717651\n",
       "\\item[Sales] 45100.815\n",
       "\\end{description*}\n"
      ],
      "text/markdown": [
       "NPI\n",
       ":   3025120125717651Sales\n",
       ":   45100.815\n",
       "\n"
      ],
      "text/plain": [
       "         NPI        Sales \n",
       "3.025120e+15 4.510082e+04 "
      ]
     },
     "metadata": {},
     "output_type": "display_data"
    },
    {
     "data": {
      "text/html": [
       "<style>\n",
       ".dl-inline {width: auto; margin:0; padding: 0}\n",
       ".dl-inline>dt, .dl-inline>dd {float: none; width: auto; display: inline-block}\n",
       ".dl-inline>dt::after {content: \":\\0020\"; padding-right: .5ex}\n",
       ".dl-inline>dt:not(:first-of-type) {padding-left: .5ex}\n",
       "</style><dl class=dl-inline><dt>NPI</dt><dd>3180254491139069</dd><dt>...44</dt><dd>3357613</dd><dt>Calls</dt><dd>81893</dd></dl>\n"
      ],
      "text/latex": [
       "\\begin{description*}\n",
       "\\item[NPI] 3180254491139069\n",
       "\\item[...44] 3357613\n",
       "\\item[Calls] 81893\n",
       "\\end{description*}\n"
      ],
      "text/markdown": [
       "NPI\n",
       ":   3180254491139069...44\n",
       ":   3357613Calls\n",
       ":   81893\n",
       "\n"
      ],
      "text/plain": [
       "         NPI        ...44        Calls \n",
       "3.180254e+15 3.357613e+06 8.189300e+04 "
      ]
     },
     "metadata": {},
     "output_type": "display_data"
    },
    {
     "data": {
      "text/html": [
       "<style>\n",
       ".dl-inline {width: auto; margin:0; padding: 0}\n",
       ".dl-inline>dt, .dl-inline>dd {float: none; width: auto; display: inline-block}\n",
       ".dl-inline>dt::after {content: \":\\0020\"; padding-right: .5ex}\n",
       ".dl-inline>dt:not(:first-of-type) {padding-left: .5ex}\n",
       "</style><dl class=dl-inline><dt>NPI</dt><dd>3180254491139069</dd><dt>Sales</dt><dd>45100.815</dd><dt>...44</dt><dd>3357613</dd><dt>Calls</dt><dd>81893</dd><dt>YRMO</dt><dd>117385459056</dd></dl>\n"
      ],
      "text/latex": [
       "\\begin{description*}\n",
       "\\item[NPI] 3180254491139069\n",
       "\\item[Sales] 45100.815\n",
       "\\item[...44] 3357613\n",
       "\\item[Calls] 81893\n",
       "\\item[YRMO] 117385459056\n",
       "\\end{description*}\n"
      ],
      "text/markdown": [
       "NPI\n",
       ":   3180254491139069Sales\n",
       ":   45100.815...44\n",
       ":   3357613Calls\n",
       ":   81893YRMO\n",
       ":   117385459056\n",
       "\n"
      ],
      "text/plain": [
       "         NPI        Sales        ...44        Calls         YRMO \n",
       "3.180254e+15 4.510082e+04 3.357613e+06 8.189300e+04 1.173855e+11 "
      ]
     },
     "metadata": {},
     "output_type": "display_data"
    }
   ],
   "source": [
    "colSums(db_sales_1[, sapply(db_sales_1, is.numeric)])\n",
    "colSums(db_calls_1[, sapply(db_calls_1, is.numeric)])\n",
    "colSums(mdb_a[, sapply(mdb_a, is.numeric)])"
   ]
  },
  {
   "cell_type": "code",
   "execution_count": 64,
   "id": "e5b706e4",
   "metadata": {},
   "outputs": [
    {
     "data": {
      "text/html": [
       "<table class=\"dataframe\">\n",
       "<caption>A data.table: 4 × 3</caption>\n",
       "<thead>\n",
       "\t<tr><th scope=col>Segment</th><th scope=col>Sales</th><th scope=col>Calls</th></tr>\n",
       "\t<tr><th scope=col>&lt;chr&gt;</th><th scope=col>&lt;dbl&gt;</th><th scope=col>&lt;dbl&gt;</th></tr>\n",
       "</thead>\n",
       "<tbody>\n",
       "\t<tr><td>-     </td><td> 2481.979</td><td>11717</td></tr>\n",
       "\t<tr><td>High  </td><td>17113.592</td><td>18623</td></tr>\n",
       "\t<tr><td>Medium</td><td>16620.868</td><td>32656</td></tr>\n",
       "\t<tr><td>Low   </td><td> 8884.376</td><td>18897</td></tr>\n",
       "</tbody>\n",
       "</table>\n"
      ],
      "text/latex": [
       "A data.table: 4 × 3\n",
       "\\begin{tabular}{lll}\n",
       " Segment & Sales & Calls\\\\\n",
       " <chr> & <dbl> & <dbl>\\\\\n",
       "\\hline\n",
       "\t -      &  2481.979 & 11717\\\\\n",
       "\t High   & 17113.592 & 18623\\\\\n",
       "\t Medium & 16620.868 & 32656\\\\\n",
       "\t Low    &  8884.376 & 18897\\\\\n",
       "\\end{tabular}\n"
      ],
      "text/markdown": [
       "\n",
       "A data.table: 4 × 3\n",
       "\n",
       "| Segment &lt;chr&gt; | Sales &lt;dbl&gt; | Calls &lt;dbl&gt; |\n",
       "|---|---|---|\n",
       "| -      |  2481.979 | 11717 |\n",
       "| High   | 17113.592 | 18623 |\n",
       "| Medium | 16620.868 | 32656 |\n",
       "| Low    |  8884.376 | 18897 |\n",
       "\n"
      ],
      "text/plain": [
       "  Segment Sales     Calls\n",
       "1 -        2481.979 11717\n",
       "2 High    17113.592 18623\n",
       "3 Medium  16620.868 32656\n",
       "4 Low      8884.376 18897"
      ]
     },
     "metadata": {},
     "output_type": "display_data"
    }
   ],
   "source": [
    "mdb[,lapply(.SD, sum, na.rm=TRUE),by=\"Segment\",.SDcols = c(\"Sales\",\"Calls\")]"
   ]
  },
  {
   "cell_type": "code",
   "execution_count": 65,
   "id": "51d7c98d",
   "metadata": {},
   "outputs": [],
   "source": [
    "mdb_week <- mdb[,lapply(.SD, sum, na.rm=TRUE),by=c(\"NPI\",\"Segment\",\"Week1\"),.SDcols = c(\"Sales\",\"Calls\")]\n",
    "mdb_week <- complete(mdb_week,NPI,Week1)\n",
    "setDT(mdb_week)\n",
    "mdb_week[is.na(mdb_week)] <- 0\n",
    "mdb_week <- mdb_week %>% arrange(NPI, Week1)"
   ]
  },
  {
   "cell_type": "code",
   "execution_count": 66,
   "id": "2d569f33",
   "metadata": {},
   "outputs": [],
   "source": [
    "mdb_month <- mdb[,lapply(.SD, sum, na.rm=TRUE),by=c(\"NPI\",\"Segment\",\"YRMO\"),.SDcols = c(\"Sales\",\"Calls\")]\n",
    "mdb_month <- merge(x=mdb_month,y=patient_count[,c('YRMO','Patients')],by=c(\"YRMO\"),all.x=T)\n",
    "mdb_month <- complete(mdb_month,NPI,YRMO)\n",
    "setDT(mdb_month)\n",
    "mdb_month[is.na(mdb_month)] <- 0\n",
    "mdb_month <- mdb_month %>% arrange(NPI, YRMO)\n",
    "setDT(mdb_month)"
   ]
  },
  {
   "cell_type": "code",
   "execution_count": 67,
   "id": "e1be9710",
   "metadata": {},
   "outputs": [],
   "source": [
    "mdb_quarter <- mdb[,lapply(.SD, sum, na.rm=TRUE),by=c(\"NPI\",\"Segment\",\"Quarter\"),.SDcols = c(\"Sales\",\"Calls\")]\n",
    "mdb_quarter <- complete(mdb_quarter,NPI,Quarter)\n",
    "setDT(mdb_quarter)\n",
    "mdb_quarter[is.na(mdb_quarter)] <- 0\n",
    "mdb_quarter <- mdb_quarter %>% arrange(NPI, Quarter)\n",
    "setDT(mdb_quarter)"
   ]
  },
  {
   "cell_type": "code",
   "execution_count": 68,
   "id": "ab5d9917",
   "metadata": {},
   "outputs": [],
   "source": [
    "mdb_month$Calls_log_k1 <- log(1 + 1*mdb_month$Calls)\n",
    "mdb_month$Calls_log_k0_5 <- log(1 + 0.5*mdb_month$Calls)\n",
    "mdb_month$Calls_log_k0_7 <- log(1 + 0.7*mdb_month$Calls)"
   ]
  },
  {
   "cell_type": "code",
   "execution_count": 69,
   "id": "4fe3d3d6",
   "metadata": {},
   "outputs": [
    {
     "data": {
      "text/html": [
       "<table class=\"dataframe\">\n",
       "<caption>A data.table: 11 × 3</caption>\n",
       "<thead>\n",
       "\t<tr><th scope=col>YRMO</th><th scope=col>Sales</th><th scope=col>Calls</th></tr>\n",
       "\t<tr><th scope=col>&lt;dbl&gt;</th><th scope=col>&lt;dbl&gt;</th><th scope=col>&lt;dbl&gt;</th></tr>\n",
       "</thead>\n",
       "<tbody>\n",
       "\t<tr><td>202207</td><td>   0.000</td><td>   44</td></tr>\n",
       "\t<tr><td>202208</td><td> 325.045</td><td> 4573</td></tr>\n",
       "\t<tr><td>202209</td><td>1443.802</td><td> 6086</td></tr>\n",
       "\t<tr><td>202210</td><td>2404.225</td><td> 8839</td></tr>\n",
       "\t<tr><td>202211</td><td>3105.588</td><td> 8111</td></tr>\n",
       "\t<tr><td>202212</td><td>5440.802</td><td> 9598</td></tr>\n",
       "\t<tr><td>202301</td><td>5135.263</td><td> 8369</td></tr>\n",
       "\t<tr><td>202302</td><td>6431.924</td><td>10231</td></tr>\n",
       "\t<tr><td>202303</td><td>9891.251</td><td>13423</td></tr>\n",
       "\t<tr><td>202304</td><td>8544.378</td><td>10578</td></tr>\n",
       "\t<tr><td>202305</td><td>2378.537</td><td> 2041</td></tr>\n",
       "</tbody>\n",
       "</table>\n"
      ],
      "text/latex": [
       "A data.table: 11 × 3\n",
       "\\begin{tabular}{lll}\n",
       " YRMO & Sales & Calls\\\\\n",
       " <dbl> & <dbl> & <dbl>\\\\\n",
       "\\hline\n",
       "\t 202207 &    0.000 &    44\\\\\n",
       "\t 202208 &  325.045 &  4573\\\\\n",
       "\t 202209 & 1443.802 &  6086\\\\\n",
       "\t 202210 & 2404.225 &  8839\\\\\n",
       "\t 202211 & 3105.588 &  8111\\\\\n",
       "\t 202212 & 5440.802 &  9598\\\\\n",
       "\t 202301 & 5135.263 &  8369\\\\\n",
       "\t 202302 & 6431.924 & 10231\\\\\n",
       "\t 202303 & 9891.251 & 13423\\\\\n",
       "\t 202304 & 8544.378 & 10578\\\\\n",
       "\t 202305 & 2378.537 &  2041\\\\\n",
       "\\end{tabular}\n"
      ],
      "text/markdown": [
       "\n",
       "A data.table: 11 × 3\n",
       "\n",
       "| YRMO &lt;dbl&gt; | Sales &lt;dbl&gt; | Calls &lt;dbl&gt; |\n",
       "|---|---|---|\n",
       "| 202207 |    0.000 |    44 |\n",
       "| 202208 |  325.045 |  4573 |\n",
       "| 202209 | 1443.802 |  6086 |\n",
       "| 202210 | 2404.225 |  8839 |\n",
       "| 202211 | 3105.588 |  8111 |\n",
       "| 202212 | 5440.802 |  9598 |\n",
       "| 202301 | 5135.263 |  8369 |\n",
       "| 202302 | 6431.924 | 10231 |\n",
       "| 202303 | 9891.251 | 13423 |\n",
       "| 202304 | 8544.378 | 10578 |\n",
       "| 202305 | 2378.537 |  2041 |\n",
       "\n"
      ],
      "text/plain": [
       "   YRMO   Sales    Calls\n",
       "1  202207    0.000    44\n",
       "2  202208  325.045  4573\n",
       "3  202209 1443.802  6086\n",
       "4  202210 2404.225  8839\n",
       "5  202211 3105.588  8111\n",
       "6  202212 5440.802  9598\n",
       "7  202301 5135.263  8369\n",
       "8  202302 6431.924 10231\n",
       "9  202303 9891.251 13423\n",
       "10 202304 8544.378 10578\n",
       "11 202305 2378.537  2041"
      ]
     },
     "metadata": {},
     "output_type": "display_data"
    }
   ],
   "source": [
    "mdb_month[,lapply(.SD, sum, na.rm=TRUE),by=c(\"YRMO\"),.SDcols = c(\"Sales\",\"Calls\")]"
   ]
  },
  {
   "cell_type": "code",
   "execution_count": 70,
   "id": "75aa69ae",
   "metadata": {},
   "outputs": [
    {
     "data": {
      "text/html": [
       "<table class=\"dataframe\">\n",
       "<caption>A data.table: 4 × 4</caption>\n",
       "<thead>\n",
       "\t<tr><th scope=col>column_label</th><th scope=col>Segment</th><th scope=col>reach</th><th scope=col>act</th></tr>\n",
       "\t<tr><th scope=col>&lt;chr&gt;</th><th scope=col>&lt;chr&gt;</th><th scope=col>&lt;int&gt;</th><th scope=col>&lt;dbl&gt;</th></tr>\n",
       "</thead>\n",
       "<tbody>\n",
       "\t<tr><td>Calls</td><td>-     </td><td>3531</td><td>11717</td></tr>\n",
       "\t<tr><td>Calls</td><td>High  </td><td>1838</td><td>18623</td></tr>\n",
       "\t<tr><td>Calls</td><td>Medium</td><td>4824</td><td>32656</td></tr>\n",
       "\t<tr><td>Calls</td><td>Low   </td><td>3431</td><td>18897</td></tr>\n",
       "</tbody>\n",
       "</table>\n"
      ],
      "text/latex": [
       "A data.table: 4 × 4\n",
       "\\begin{tabular}{llll}\n",
       " column\\_label & Segment & reach & act\\\\\n",
       " <chr> & <chr> & <int> & <dbl>\\\\\n",
       "\\hline\n",
       "\t Calls & -      & 3531 & 11717\\\\\n",
       "\t Calls & High   & 1838 & 18623\\\\\n",
       "\t Calls & Medium & 4824 & 32656\\\\\n",
       "\t Calls & Low    & 3431 & 18897\\\\\n",
       "\\end{tabular}\n"
      ],
      "text/markdown": [
       "\n",
       "A data.table: 4 × 4\n",
       "\n",
       "| column_label &lt;chr&gt; | Segment &lt;chr&gt; | reach &lt;int&gt; | act &lt;dbl&gt; |\n",
       "|---|---|---|---|\n",
       "| Calls | -      | 3531 | 11717 |\n",
       "| Calls | High   | 1838 | 18623 |\n",
       "| Calls | Medium | 4824 | 32656 |\n",
       "| Calls | Low    | 3431 | 18897 |\n",
       "\n"
      ],
      "text/plain": [
       "  column_label Segment reach act  \n",
       "1 Calls        -       3531  11717\n",
       "2 Calls        High    1838  18623\n",
       "3 Calls        Medium  4824  32656\n",
       "4 Calls        Low     3431  18897"
      ]
     },
     "metadata": {},
     "output_type": "display_data"
    }
   ],
   "source": [
    "list2 <- list()\n",
    "for(i in 'Calls'){\n",
    "  list2[[i]] <- mdb_month[,by=c(\"Segment\"),.(reach = uniqueN(`NPI`[get(i) != 0]), \n",
    "                                                                               act = sum(get(i)))]\n",
    "}\n",
    "\n",
    "display_reach_freq <- bind_rows(list2, .id = \"column_label\")\n",
    "display_reach_freq"
   ]
  },
  {
   "cell_type": "code",
   "execution_count": 71,
   "id": "528c3740",
   "metadata": {},
   "outputs": [],
   "source": [
    "#keeping columns only for MDB\n",
    "\n",
    "mdb_month <- mdb_month[YRMO > 202208 & YRMO < 202305]"
   ]
  },
  {
   "cell_type": "code",
   "execution_count": 72,
   "id": "be31aa58",
   "metadata": {},
   "outputs": [],
   "source": [
    "#Carryover Creation"
   ]
  },
  {
   "cell_type": "code",
   "execution_count": 73,
   "id": "bb79a41f",
   "metadata": {},
   "outputs": [],
   "source": [
    "mdb_month$Carryover <- lag(mdb_month$Sales,1)\n",
    "mdb_month[is.na(mdb_month)] <- 0"
   ]
  },
  {
   "cell_type": "code",
   "execution_count": 74,
   "id": "57c66763",
   "metadata": {},
   "outputs": [],
   "source": [
    "# Correaltion Matrix"
   ]
  },
  {
   "cell_type": "code",
   "execution_count": 75,
   "id": "839bd95f",
   "metadata": {},
   "outputs": [
    {
     "data": {
      "text/html": [
       "<table class=\"dataframe\">\n",
       "<caption>A matrix: 7 × 7 of type dbl</caption>\n",
       "<thead>\n",
       "\t<tr><th></th><th scope=col>Sales</th><th scope=col>Calls</th><th scope=col>Patients</th><th scope=col>Calls_log_k1</th><th scope=col>Calls_log_k0_5</th><th scope=col>Calls_log_k0_7</th><th scope=col>Carryover</th></tr>\n",
       "</thead>\n",
       "<tbody>\n",
       "\t<tr><th scope=row>Sales</th><td>100.0</td><td> 29.6</td><td>  0.4</td><td> 26.7</td><td> 27.6</td><td> 27.2</td><td> 65.7</td></tr>\n",
       "\t<tr><th scope=row>Calls</th><td> 29.6</td><td>100.0</td><td> -2.4</td><td> 96.8</td><td> 98.3</td><td> 97.6</td><td> 20.8</td></tr>\n",
       "\t<tr><th scope=row>Patients</th><td>  0.4</td><td> -2.4</td><td>100.0</td><td> -2.5</td><td> -2.5</td><td> -2.5</td><td>  9.5</td></tr>\n",
       "\t<tr><th scope=row>Calls_log_k1</th><td> 26.7</td><td> 96.8</td><td> -2.5</td><td>100.0</td><td> 99.7</td><td> 99.9</td><td> 18.8</td></tr>\n",
       "\t<tr><th scope=row>Calls_log_k0_5</th><td> 27.6</td><td> 98.3</td><td> -2.5</td><td> 99.7</td><td>100.0</td><td> 99.9</td><td> 19.4</td></tr>\n",
       "\t<tr><th scope=row>Calls_log_k0_7</th><td> 27.2</td><td> 97.6</td><td> -2.5</td><td> 99.9</td><td> 99.9</td><td>100.0</td><td> 19.1</td></tr>\n",
       "\t<tr><th scope=row>Carryover</th><td> 65.7</td><td> 20.8</td><td>  9.5</td><td> 18.8</td><td> 19.4</td><td> 19.1</td><td>100.0</td></tr>\n",
       "</tbody>\n",
       "</table>\n"
      ],
      "text/latex": [
       "A matrix: 7 × 7 of type dbl\n",
       "\\begin{tabular}{r|lllllll}\n",
       "  & Sales & Calls & Patients & Calls\\_log\\_k1 & Calls\\_log\\_k0\\_5 & Calls\\_log\\_k0\\_7 & Carryover\\\\\n",
       "\\hline\n",
       "\tSales & 100.0 &  29.6 &   0.4 &  26.7 &  27.6 &  27.2 &  65.7\\\\\n",
       "\tCalls &  29.6 & 100.0 &  -2.4 &  96.8 &  98.3 &  97.6 &  20.8\\\\\n",
       "\tPatients &   0.4 &  -2.4 & 100.0 &  -2.5 &  -2.5 &  -2.5 &   9.5\\\\\n",
       "\tCalls\\_log\\_k1 &  26.7 &  96.8 &  -2.5 & 100.0 &  99.7 &  99.9 &  18.8\\\\\n",
       "\tCalls\\_log\\_k0\\_5 &  27.6 &  98.3 &  -2.5 &  99.7 & 100.0 &  99.9 &  19.4\\\\\n",
       "\tCalls\\_log\\_k0\\_7 &  27.2 &  97.6 &  -2.5 &  99.9 &  99.9 & 100.0 &  19.1\\\\\n",
       "\tCarryover &  65.7 &  20.8 &   9.5 &  18.8 &  19.4 &  19.1 & 100.0\\\\\n",
       "\\end{tabular}\n"
      ],
      "text/markdown": [
       "\n",
       "A matrix: 7 × 7 of type dbl\n",
       "\n",
       "| <!--/--> | Sales | Calls | Patients | Calls_log_k1 | Calls_log_k0_5 | Calls_log_k0_7 | Carryover |\n",
       "|---|---|---|---|---|---|---|---|\n",
       "| Sales | 100.0 |  29.6 |   0.4 |  26.7 |  27.6 |  27.2 |  65.7 |\n",
       "| Calls |  29.6 | 100.0 |  -2.4 |  96.8 |  98.3 |  97.6 |  20.8 |\n",
       "| Patients |   0.4 |  -2.4 | 100.0 |  -2.5 |  -2.5 |  -2.5 |   9.5 |\n",
       "| Calls_log_k1 |  26.7 |  96.8 |  -2.5 | 100.0 |  99.7 |  99.9 |  18.8 |\n",
       "| Calls_log_k0_5 |  27.6 |  98.3 |  -2.5 |  99.7 | 100.0 |  99.9 |  19.4 |\n",
       "| Calls_log_k0_7 |  27.2 |  97.6 |  -2.5 |  99.9 |  99.9 | 100.0 |  19.1 |\n",
       "| Carryover |  65.7 |  20.8 |   9.5 |  18.8 |  19.4 |  19.1 | 100.0 |\n",
       "\n"
      ],
      "text/plain": [
       "               Sales Calls Patients Calls_log_k1 Calls_log_k0_5 Calls_log_k0_7\n",
       "Sales          100.0  29.6   0.4     26.7         27.6           27.2         \n",
       "Calls           29.6 100.0  -2.4     96.8         98.3           97.6         \n",
       "Patients         0.4  -2.4 100.0     -2.5         -2.5           -2.5         \n",
       "Calls_log_k1    26.7  96.8  -2.5    100.0         99.7           99.9         \n",
       "Calls_log_k0_5  27.6  98.3  -2.5     99.7        100.0           99.9         \n",
       "Calls_log_k0_7  27.2  97.6  -2.5     99.9         99.9          100.0         \n",
       "Carryover       65.7  20.8   9.5     18.8         19.4           19.1         \n",
       "               Carryover\n",
       "Sales           65.7    \n",
       "Calls           20.8    \n",
       "Patients         9.5    \n",
       "Calls_log_k1    18.8    \n",
       "Calls_log_k0_5  19.4    \n",
       "Calls_log_k0_7  19.1    \n",
       "Carryover      100.0    "
      ]
     },
     "metadata": {},
     "output_type": "display_data"
    }
   ],
   "source": [
    "round(cor(mdb_month[,-c(\"NPI\",\"Segment\",\"YRMO\")])*100,1)"
   ]
  },
  {
   "cell_type": "code",
   "execution_count": 76,
   "id": "2d596095",
   "metadata": {
    "scrolled": false
   },
   "outputs": [
    {
     "data": {
      "image/png": "[encoded data removed]",
      "text/plain": [
       "plot without title"
      ]
     },
     "metadata": {
      "image/png": {
       "height": 420,
       "width": 420
      }
     },
     "output_type": "display_data"
    }
   ],
   "source": [
    "ggcorrplot(cor(mdb_month[,-c(\"NPI\",\"Segment\",\"YRMO\")]))"
   ]
  },
  {
   "cell_type": "code",
   "execution_count": 77,
   "id": "be101988",
   "metadata": {},
   "outputs": [],
   "source": [
    "model <- mdb_month[Segment != '-']"
   ]
  },
  {
   "cell_type": "code",
   "execution_count": 78,
   "id": "97c0d833",
   "metadata": {},
   "outputs": [
    {
     "data": {
      "text/html": [
       "<table class=\"dataframe\">\n",
       "<caption>A data.table: 24 × 5</caption>\n",
       "<thead>\n",
       "\t<tr><th scope=col>column_label</th><th scope=col>Segment</th><th scope=col>YRMO</th><th scope=col>reach</th><th scope=col>act</th></tr>\n",
       "\t<tr><th scope=col>&lt;chr&gt;</th><th scope=col>&lt;chr&gt;</th><th scope=col>&lt;dbl&gt;</th><th scope=col>&lt;int&gt;</th><th scope=col>&lt;dbl&gt;</th></tr>\n",
       "</thead>\n",
       "<tbody>\n",
       "\t<tr><td>Calls</td><td>High  </td><td>202209</td><td> 999</td><td>1609</td></tr>\n",
       "\t<tr><td>Calls</td><td>High  </td><td>202210</td><td>1235</td><td>2130</td></tr>\n",
       "\t<tr><td>Calls</td><td>High  </td><td>202211</td><td>1108</td><td>1824</td></tr>\n",
       "\t<tr><td>Calls</td><td>High  </td><td>202212</td><td>1199</td><td>2207</td></tr>\n",
       "\t<tr><td>Calls</td><td>High  </td><td>202301</td><td>1143</td><td>1867</td></tr>\n",
       "\t<tr><td>Calls</td><td>High  </td><td>202302</td><td>1214</td><td>2191</td></tr>\n",
       "\t<tr><td>Calls</td><td>High  </td><td>202303</td><td>1371</td><td>2872</td></tr>\n",
       "\t<tr><td>Calls</td><td>High  </td><td>202304</td><td>1201</td><td>2230</td></tr>\n",
       "\t<tr><td>Calls</td><td>Medium</td><td>202209</td><td>1836</td><td>2491</td></tr>\n",
       "\t<tr><td>Calls</td><td>Medium</td><td>202210</td><td>2456</td><td>3614</td></tr>\n",
       "\t<tr><td>Calls</td><td>Medium</td><td>202211</td><td>2296</td><td>3214</td></tr>\n",
       "\t<tr><td>Calls</td><td>Medium</td><td>202212</td><td>2470</td><td>3822</td></tr>\n",
       "\t<tr><td>Calls</td><td>Medium</td><td>202301</td><td>2353</td><td>3342</td></tr>\n",
       "\t<tr><td>Calls</td><td>Medium</td><td>202302</td><td>2642</td><td>4052</td></tr>\n",
       "\t<tr><td>Calls</td><td>Medium</td><td>202303</td><td>3021</td><td>5240</td></tr>\n",
       "\t<tr><td>Calls</td><td>Medium</td><td>202304</td><td>2663</td><td>4162</td></tr>\n",
       "\t<tr><td>Calls</td><td>Low   </td><td>202209</td><td> 971</td><td>1279</td></tr>\n",
       "\t<tr><td>Calls</td><td>Low   </td><td>202210</td><td>1388</td><td>1946</td></tr>\n",
       "\t<tr><td>Calls</td><td>Low   </td><td>202211</td><td>1450</td><td>1944</td></tr>\n",
       "\t<tr><td>Calls</td><td>Low   </td><td>202212</td><td>1562</td><td>2256</td></tr>\n",
       "\t<tr><td>Calls</td><td>Low   </td><td>202301</td><td>1446</td><td>1991</td></tr>\n",
       "\t<tr><td>Calls</td><td>Low   </td><td>202302</td><td>1698</td><td>2457</td></tr>\n",
       "\t<tr><td>Calls</td><td>Low   </td><td>202303</td><td>1940</td><td>3095</td></tr>\n",
       "\t<tr><td>Calls</td><td>Low   </td><td>202304</td><td>1755</td><td>2561</td></tr>\n",
       "</tbody>\n",
       "</table>\n"
      ],
      "text/latex": [
       "A data.table: 24 × 5\n",
       "\\begin{tabular}{lllll}\n",
       " column\\_label & Segment & YRMO & reach & act\\\\\n",
       " <chr> & <chr> & <dbl> & <int> & <dbl>\\\\\n",
       "\\hline\n",
       "\t Calls & High   & 202209 &  999 & 1609\\\\\n",
       "\t Calls & High   & 202210 & 1235 & 2130\\\\\n",
       "\t Calls & High   & 202211 & 1108 & 1824\\\\\n",
       "\t Calls & High   & 202212 & 1199 & 2207\\\\\n",
       "\t Calls & High   & 202301 & 1143 & 1867\\\\\n",
       "\t Calls & High   & 202302 & 1214 & 2191\\\\\n",
       "\t Calls & High   & 202303 & 1371 & 2872\\\\\n",
       "\t Calls & High   & 202304 & 1201 & 2230\\\\\n",
       "\t Calls & Medium & 202209 & 1836 & 2491\\\\\n",
       "\t Calls & Medium & 202210 & 2456 & 3614\\\\\n",
       "\t Calls & Medium & 202211 & 2296 & 3214\\\\\n",
       "\t Calls & Medium & 202212 & 2470 & 3822\\\\\n",
       "\t Calls & Medium & 202301 & 2353 & 3342\\\\\n",
       "\t Calls & Medium & 202302 & 2642 & 4052\\\\\n",
       "\t Calls & Medium & 202303 & 3021 & 5240\\\\\n",
       "\t Calls & Medium & 202304 & 2663 & 4162\\\\\n",
       "\t Calls & Low    & 202209 &  971 & 1279\\\\\n",
       "\t Calls & Low    & 202210 & 1388 & 1946\\\\\n",
       "\t Calls & Low    & 202211 & 1450 & 1944\\\\\n",
       "\t Calls & Low    & 202212 & 1562 & 2256\\\\\n",
       "\t Calls & Low    & 202301 & 1446 & 1991\\\\\n",
       "\t Calls & Low    & 202302 & 1698 & 2457\\\\\n",
       "\t Calls & Low    & 202303 & 1940 & 3095\\\\\n",
       "\t Calls & Low    & 202304 & 1755 & 2561\\\\\n",
       "\\end{tabular}\n"
      ],
      "text/markdown": [
       "\n",
       "A data.table: 24 × 5\n",
       "\n",
       "| column_label &lt;chr&gt; | Segment &lt;chr&gt; | YRMO &lt;dbl&gt; | reach &lt;int&gt; | act &lt;dbl&gt; |\n",
       "|---|---|---|---|---|\n",
       "| Calls | High   | 202209 |  999 | 1609 |\n",
       "| Calls | High   | 202210 | 1235 | 2130 |\n",
       "| Calls | High   | 202211 | 1108 | 1824 |\n",
       "| Calls | High   | 202212 | 1199 | 2207 |\n",
       "| Calls | High   | 202301 | 1143 | 1867 |\n",
       "| Calls | High   | 202302 | 1214 | 2191 |\n",
       "| Calls | High   | 202303 | 1371 | 2872 |\n",
       "| Calls | High   | 202304 | 1201 | 2230 |\n",
       "| Calls | Medium | 202209 | 1836 | 2491 |\n",
       "| Calls | Medium | 202210 | 2456 | 3614 |\n",
       "| Calls | Medium | 202211 | 2296 | 3214 |\n",
       "| Calls | Medium | 202212 | 2470 | 3822 |\n",
       "| Calls | Medium | 202301 | 2353 | 3342 |\n",
       "| Calls | Medium | 202302 | 2642 | 4052 |\n",
       "| Calls | Medium | 202303 | 3021 | 5240 |\n",
       "| Calls | Medium | 202304 | 2663 | 4162 |\n",
       "| Calls | Low    | 202209 |  971 | 1279 |\n",
       "| Calls | Low    | 202210 | 1388 | 1946 |\n",
       "| Calls | Low    | 202211 | 1450 | 1944 |\n",
       "| Calls | Low    | 202212 | 1562 | 2256 |\n",
       "| Calls | Low    | 202301 | 1446 | 1991 |\n",
       "| Calls | Low    | 202302 | 1698 | 2457 |\n",
       "| Calls | Low    | 202303 | 1940 | 3095 |\n",
       "| Calls | Low    | 202304 | 1755 | 2561 |\n",
       "\n"
      ],
      "text/plain": [
       "   column_label Segment YRMO   reach act \n",
       "1  Calls        High    202209  999  1609\n",
       "2  Calls        High    202210 1235  2130\n",
       "3  Calls        High    202211 1108  1824\n",
       "4  Calls        High    202212 1199  2207\n",
       "5  Calls        High    202301 1143  1867\n",
       "6  Calls        High    202302 1214  2191\n",
       "7  Calls        High    202303 1371  2872\n",
       "8  Calls        High    202304 1201  2230\n",
       "9  Calls        Medium  202209 1836  2491\n",
       "10 Calls        Medium  202210 2456  3614\n",
       "11 Calls        Medium  202211 2296  3214\n",
       "12 Calls        Medium  202212 2470  3822\n",
       "13 Calls        Medium  202301 2353  3342\n",
       "14 Calls        Medium  202302 2642  4052\n",
       "15 Calls        Medium  202303 3021  5240\n",
       "16 Calls        Medium  202304 2663  4162\n",
       "17 Calls        Low     202209  971  1279\n",
       "18 Calls        Low     202210 1388  1946\n",
       "19 Calls        Low     202211 1450  1944\n",
       "20 Calls        Low     202212 1562  2256\n",
       "21 Calls        Low     202301 1446  1991\n",
       "22 Calls        Low     202302 1698  2457\n",
       "23 Calls        Low     202303 1940  3095\n",
       "24 Calls        Low     202304 1755  2561"
      ]
     },
     "metadata": {},
     "output_type": "display_data"
    }
   ],
   "source": [
    "list2 <- list()\n",
    "for(i in 'Calls'){\n",
    "  list2[[i]] <- model[,by=c(\"Segment\",\"YRMO\"),.(reach = uniqueN(`NPI`[get(i) != 0]), \n",
    "                                                                               act = sum(get(i)))]\n",
    "}\n",
    "\n",
    "display_reach_freq <- bind_rows(list2, .id = \"column_label\")\n",
    "display_reach_freq"
   ]
  },
  {
   "cell_type": "code",
   "execution_count": 79,
   "id": "3e04d243",
   "metadata": {},
   "outputs": [],
   "source": [
    "# write.csv(model,'model.csv',row.names=FALSE)"
   ]
  },
  {
   "cell_type": "code",
   "execution_count": 80,
   "id": "1eacfbc9",
   "metadata": {},
   "outputs": [],
   "source": [
    "model <- merge(x=model,y=display_reach_freq,by=c('Segment','YRMO'),all.x=T)"
   ]
  },
  {
   "cell_type": "code",
   "execution_count": 81,
   "id": "891df2b1",
   "metadata": {},
   "outputs": [],
   "source": [
    "# Numerator columns\n",
    "numerator_cols <- grep(\"Calls\", names(model), value = TRUE)\n",
    "\n",
    "# Denominator columns\n",
    "denominator_cols <- c(\"reach\",\"Patients\")\n",
    "\n",
    "# Divide numerator columns by denominator columns and rename new columns\n",
    "for (num_col in numerator_cols) {\n",
    "  for (denom_col in denominator_cols) {\n",
    "    new_col_name <- paste0(num_col, \"_norm_\", denom_col)\n",
    "    model[[new_col_name]] <- model[[num_col]] / model[[denom_col]]\n",
    "  }\n",
    "}\n"
   ]
  },
  {
   "cell_type": "code",
   "execution_count": 82,
   "id": "945125d6",
   "metadata": {
    "scrolled": true
   },
   "outputs": [
    {
     "data": {
      "text/html": [
       "<table class=\"dataframe\">\n",
       "<caption>A data.table: 6 × 21</caption>\n",
       "<thead>\n",
       "\t<tr><th scope=col>Segment</th><th scope=col>YRMO</th><th scope=col>NPI</th><th scope=col>Sales</th><th scope=col>Calls</th><th scope=col>Patients</th><th scope=col>Calls_log_k1</th><th scope=col>Calls_log_k0_5</th><th scope=col>Calls_log_k0_7</th><th scope=col>Carryover</th><th scope=col>⋯</th><th scope=col>reach</th><th scope=col>act</th><th scope=col>Calls_norm_reach</th><th scope=col>Calls_norm_Patients</th><th scope=col>Calls_log_k1_norm_reach</th><th scope=col>Calls_log_k1_norm_Patients</th><th scope=col>Calls_log_k0_5_norm_reach</th><th scope=col>Calls_log_k0_5_norm_Patients</th><th scope=col>Calls_log_k0_7_norm_reach</th><th scope=col>Calls_log_k0_7_norm_Patients</th></tr>\n",
       "\t<tr><th scope=col>&lt;chr&gt;</th><th scope=col>&lt;dbl&gt;</th><th scope=col>&lt;dbl&gt;</th><th scope=col>&lt;dbl&gt;</th><th scope=col>&lt;dbl&gt;</th><th scope=col>&lt;dbl&gt;</th><th scope=col>&lt;dbl&gt;</th><th scope=col>&lt;dbl&gt;</th><th scope=col>&lt;dbl&gt;</th><th scope=col>&lt;dbl&gt;</th><th scope=col>⋯</th><th scope=col>&lt;int&gt;</th><th scope=col>&lt;dbl&gt;</th><th scope=col>&lt;dbl&gt;</th><th scope=col>&lt;dbl&gt;</th><th scope=col>&lt;dbl&gt;</th><th scope=col>&lt;dbl&gt;</th><th scope=col>&lt;dbl&gt;</th><th scope=col>&lt;dbl&gt;</th><th scope=col>&lt;dbl&gt;</th><th scope=col>&lt;dbl&gt;</th></tr>\n",
       "</thead>\n",
       "<tbody>\n",
       "\t<tr><td>High</td><td>202209</td><td>1002977991</td><td>0.000</td><td>0</td><td>168600</td><td>0.000000</td><td>0.0000000</td><td>0.0000000</td><td>0.000</td><td>⋯</td><td>999</td><td>1609</td><td>0.000000000</td><td>0.000000e+00</td><td>0.000000000</td><td>0.000000e+00</td><td>0.0000000000</td><td>0.000000e+00</td><td>0.0000000000</td><td>0.000000e+00</td></tr>\n",
       "\t<tr><td>High</td><td>202209</td><td>1005957290</td><td>0.000</td><td>0</td><td>168600</td><td>0.000000</td><td>0.0000000</td><td>0.0000000</td><td>5.561</td><td>⋯</td><td>999</td><td>1609</td><td>0.000000000</td><td>0.000000e+00</td><td>0.000000000</td><td>0.000000e+00</td><td>0.0000000000</td><td>0.000000e+00</td><td>0.0000000000</td><td>0.000000e+00</td></tr>\n",
       "\t<tr><td>High</td><td>202209</td><td>1018552872</td><td>0.000</td><td>3</td><td>168600</td><td>1.386294</td><td>0.9162907</td><td>1.1314021</td><td>0.000</td><td>⋯</td><td>999</td><td>1609</td><td>0.003003003</td><td>1.779359e-05</td><td>0.001387682</td><td>8.222386e-06</td><td>0.0009172079</td><td>5.434702e-06</td><td>0.0011325346</td><td>6.710570e-06</td></tr>\n",
       "\t<tr><td>High</td><td>202209</td><td>1022856683</td><td>0.000</td><td>0</td><td>168600</td><td>0.000000</td><td>0.0000000</td><td>0.0000000</td><td>0.858</td><td>⋯</td><td>999</td><td>1609</td><td>0.000000000</td><td>0.000000e+00</td><td>0.000000000</td><td>0.000000e+00</td><td>0.0000000000</td><td>0.000000e+00</td><td>0.0000000000</td><td>0.000000e+00</td></tr>\n",
       "\t<tr><td>High</td><td>202209</td><td>1025529751</td><td>5.327</td><td>2</td><td>168600</td><td>1.098612</td><td>0.6931472</td><td>0.8754687</td><td>0.000</td><td>⋯</td><td>999</td><td>1609</td><td>0.002002002</td><td>1.186240e-05</td><td>0.001099712</td><td>6.516087e-06</td><td>0.0006938410</td><td>4.111193e-06</td><td>0.0008763451</td><td>5.192579e-06</td></tr>\n",
       "\t<tr><td>High</td><td>202209</td><td>1026175920</td><td>0.000</td><td>2</td><td>168600</td><td>1.098612</td><td>0.6931472</td><td>0.8754687</td><td>0.000</td><td>⋯</td><td>999</td><td>1609</td><td>0.002002002</td><td>1.186240e-05</td><td>0.001099712</td><td>6.516087e-06</td><td>0.0006938410</td><td>4.111193e-06</td><td>0.0008763451</td><td>5.192579e-06</td></tr>\n",
       "</tbody>\n",
       "</table>\n"
      ],
      "text/latex": [
       "A data.table: 6 × 21\n",
       "\\begin{tabular}{lllllllllllllllllllll}\n",
       " Segment & YRMO & NPI & Sales & Calls & Patients & Calls\\_log\\_k1 & Calls\\_log\\_k0\\_5 & Calls\\_log\\_k0\\_7 & Carryover & ⋯ & reach & act & Calls\\_norm\\_reach & Calls\\_norm\\_Patients & Calls\\_log\\_k1\\_norm\\_reach & Calls\\_log\\_k1\\_norm\\_Patients & Calls\\_log\\_k0\\_5\\_norm\\_reach & Calls\\_log\\_k0\\_5\\_norm\\_Patients & Calls\\_log\\_k0\\_7\\_norm\\_reach & Calls\\_log\\_k0\\_7\\_norm\\_Patients\\\\\n",
       " <chr> & <dbl> & <dbl> & <dbl> & <dbl> & <dbl> & <dbl> & <dbl> & <dbl> & <dbl> & ⋯ & <int> & <dbl> & <dbl> & <dbl> & <dbl> & <dbl> & <dbl> & <dbl> & <dbl> & <dbl>\\\\\n",
       "\\hline\n",
       "\t High & 202209 & 1002977991 & 0.000 & 0 & 168600 & 0.000000 & 0.0000000 & 0.0000000 & 0.000 & ⋯ & 999 & 1609 & 0.000000000 & 0.000000e+00 & 0.000000000 & 0.000000e+00 & 0.0000000000 & 0.000000e+00 & 0.0000000000 & 0.000000e+00\\\\\n",
       "\t High & 202209 & 1005957290 & 0.000 & 0 & 168600 & 0.000000 & 0.0000000 & 0.0000000 & 5.561 & ⋯ & 999 & 1609 & 0.000000000 & 0.000000e+00 & 0.000000000 & 0.000000e+00 & 0.0000000000 & 0.000000e+00 & 0.0000000000 & 0.000000e+00\\\\\n",
       "\t High & 202209 & 1018552872 & 0.000 & 3 & 168600 & 1.386294 & 0.9162907 & 1.1314021 & 0.000 & ⋯ & 999 & 1609 & 0.003003003 & 1.779359e-05 & 0.001387682 & 8.222386e-06 & 0.0009172079 & 5.434702e-06 & 0.0011325346 & 6.710570e-06\\\\\n",
       "\t High & 202209 & 1022856683 & 0.000 & 0 & 168600 & 0.000000 & 0.0000000 & 0.0000000 & 0.858 & ⋯ & 999 & 1609 & 0.000000000 & 0.000000e+00 & 0.000000000 & 0.000000e+00 & 0.0000000000 & 0.000000e+00 & 0.0000000000 & 0.000000e+00\\\\\n",
       "\t High & 202209 & 1025529751 & 5.327 & 2 & 168600 & 1.098612 & 0.6931472 & 0.8754687 & 0.000 & ⋯ & 999 & 1609 & 0.002002002 & 1.186240e-05 & 0.001099712 & 6.516087e-06 & 0.0006938410 & 4.111193e-06 & 0.0008763451 & 5.192579e-06\\\\\n",
       "\t High & 202209 & 1026175920 & 0.000 & 2 & 168600 & 1.098612 & 0.6931472 & 0.8754687 & 0.000 & ⋯ & 999 & 1609 & 0.002002002 & 1.186240e-05 & 0.001099712 & 6.516087e-06 & 0.0006938410 & 4.111193e-06 & 0.0008763451 & 5.192579e-06\\\\\n",
       "\\end{tabular}\n"
      ],
      "text/markdown": [
       "\n",
       "A data.table: 6 × 21\n",
       "\n",
       "| Segment &lt;chr&gt; | YRMO &lt;dbl&gt; | NPI &lt;dbl&gt; | Sales &lt;dbl&gt; | Calls &lt;dbl&gt; | Patients &lt;dbl&gt; | Calls_log_k1 &lt;dbl&gt; | Calls_log_k0_5 &lt;dbl&gt; | Calls_log_k0_7 &lt;dbl&gt; | Carryover &lt;dbl&gt; | ⋯ ⋯ | reach &lt;int&gt; | act &lt;dbl&gt; | Calls_norm_reach &lt;dbl&gt; | Calls_norm_Patients &lt;dbl&gt; | Calls_log_k1_norm_reach &lt;dbl&gt; | Calls_log_k1_norm_Patients &lt;dbl&gt; | Calls_log_k0_5_norm_reach &lt;dbl&gt; | Calls_log_k0_5_norm_Patients &lt;dbl&gt; | Calls_log_k0_7_norm_reach &lt;dbl&gt; | Calls_log_k0_7_norm_Patients &lt;dbl&gt; |\n",
       "|---|---|---|---|---|---|---|---|---|---|---|---|---|---|---|---|---|---|---|---|---|\n",
       "| High | 202209 | 1002977991 | 0.000 | 0 | 168600 | 0.000000 | 0.0000000 | 0.0000000 | 0.000 | ⋯ | 999 | 1609 | 0.000000000 | 0.000000e+00 | 0.000000000 | 0.000000e+00 | 0.0000000000 | 0.000000e+00 | 0.0000000000 | 0.000000e+00 |\n",
       "| High | 202209 | 1005957290 | 0.000 | 0 | 168600 | 0.000000 | 0.0000000 | 0.0000000 | 5.561 | ⋯ | 999 | 1609 | 0.000000000 | 0.000000e+00 | 0.000000000 | 0.000000e+00 | 0.0000000000 | 0.000000e+00 | 0.0000000000 | 0.000000e+00 |\n",
       "| High | 202209 | 1018552872 | 0.000 | 3 | 168600 | 1.386294 | 0.9162907 | 1.1314021 | 0.000 | ⋯ | 999 | 1609 | 0.003003003 | 1.779359e-05 | 0.001387682 | 8.222386e-06 | 0.0009172079 | 5.434702e-06 | 0.0011325346 | 6.710570e-06 |\n",
       "| High | 202209 | 1022856683 | 0.000 | 0 | 168600 | 0.000000 | 0.0000000 | 0.0000000 | 0.858 | ⋯ | 999 | 1609 | 0.000000000 | 0.000000e+00 | 0.000000000 | 0.000000e+00 | 0.0000000000 | 0.000000e+00 | 0.0000000000 | 0.000000e+00 |\n",
       "| High | 202209 | 1025529751 | 5.327 | 2 | 168600 | 1.098612 | 0.6931472 | 0.8754687 | 0.000 | ⋯ | 999 | 1609 | 0.002002002 | 1.186240e-05 | 0.001099712 | 6.516087e-06 | 0.0006938410 | 4.111193e-06 | 0.0008763451 | 5.192579e-06 |\n",
       "| High | 202209 | 1026175920 | 0.000 | 2 | 168600 | 1.098612 | 0.6931472 | 0.8754687 | 0.000 | ⋯ | 999 | 1609 | 0.002002002 | 1.186240e-05 | 0.001099712 | 6.516087e-06 | 0.0006938410 | 4.111193e-06 | 0.0008763451 | 5.192579e-06 |\n",
       "\n"
      ],
      "text/plain": [
       "  Segment YRMO   NPI        Sales Calls Patients Calls_log_k1 Calls_log_k0_5\n",
       "1 High    202209 1002977991 0.000 0     168600   0.000000     0.0000000     \n",
       "2 High    202209 1005957290 0.000 0     168600   0.000000     0.0000000     \n",
       "3 High    202209 1018552872 0.000 3     168600   1.386294     0.9162907     \n",
       "4 High    202209 1022856683 0.000 0     168600   0.000000     0.0000000     \n",
       "5 High    202209 1025529751 5.327 2     168600   1.098612     0.6931472     \n",
       "6 High    202209 1026175920 0.000 2     168600   1.098612     0.6931472     \n",
       "  Calls_log_k0_7 Carryover ⋯ reach act  Calls_norm_reach Calls_norm_Patients\n",
       "1 0.0000000      0.000     ⋯ 999   1609 0.000000000      0.000000e+00       \n",
       "2 0.0000000      5.561     ⋯ 999   1609 0.000000000      0.000000e+00       \n",
       "3 1.1314021      0.000     ⋯ 999   1609 0.003003003      1.779359e-05       \n",
       "4 0.0000000      0.858     ⋯ 999   1609 0.000000000      0.000000e+00       \n",
       "5 0.8754687      0.000     ⋯ 999   1609 0.002002002      1.186240e-05       \n",
       "6 0.8754687      0.000     ⋯ 999   1609 0.002002002      1.186240e-05       \n",
       "  Calls_log_k1_norm_reach Calls_log_k1_norm_Patients Calls_log_k0_5_norm_reach\n",
       "1 0.000000000             0.000000e+00               0.0000000000             \n",
       "2 0.000000000             0.000000e+00               0.0000000000             \n",
       "3 0.001387682             8.222386e-06               0.0009172079             \n",
       "4 0.000000000             0.000000e+00               0.0000000000             \n",
       "5 0.001099712             6.516087e-06               0.0006938410             \n",
       "6 0.001099712             6.516087e-06               0.0006938410             \n",
       "  Calls_log_k0_5_norm_Patients Calls_log_k0_7_norm_reach\n",
       "1 0.000000e+00                 0.0000000000             \n",
       "2 0.000000e+00                 0.0000000000             \n",
       "3 5.434702e-06                 0.0011325346             \n",
       "4 0.000000e+00                 0.0000000000             \n",
       "5 4.111193e-06                 0.0008763451             \n",
       "6 4.111193e-06                 0.0008763451             \n",
       "  Calls_log_k0_7_norm_Patients\n",
       "1 0.000000e+00                \n",
       "2 0.000000e+00                \n",
       "3 6.710570e-06                \n",
       "4 0.000000e+00                \n",
       "5 5.192579e-06                \n",
       "6 5.192579e-06                "
      ]
     },
     "metadata": {},
     "output_type": "display_data"
    }
   ],
   "source": [
    "head(model)"
   ]
  },
  {
   "cell_type": "code",
   "execution_count": 83,
   "id": "2017d001",
   "metadata": {},
   "outputs": [
    {
     "data": {
      "text/html": [
       "<style>\n",
       ".list-inline {list-style: none; margin:0; padding: 0}\n",
       ".list-inline>li {display: inline-block}\n",
       ".list-inline>li:not(:last-child)::after {content: \"\\00b7\"; padding: 0 .5ex}\n",
       "</style>\n",
       "<ol class=list-inline><li>'Segment'</li><li>'YRMO'</li><li>'NPI'</li><li>'Sales'</li><li>'Calls'</li><li>'Patients'</li><li>'Calls_log_k1'</li><li>'Calls_log_k0_5'</li><li>'Calls_log_k0_7'</li><li>'Carryover'</li><li>'column_label'</li><li>'reach'</li><li>'act'</li><li>'Calls_norm_reach'</li><li>'Calls_norm_Patients'</li><li>'Calls_log_k1_norm_reach'</li><li>'Calls_log_k1_norm_Patients'</li><li>'Calls_log_k0_5_norm_reach'</li><li>'Calls_log_k0_5_norm_Patients'</li><li>'Calls_log_k0_7_norm_reach'</li><li>'Calls_log_k0_7_norm_Patients'</li></ol>\n"
      ],
      "text/latex": [
       "\\begin{enumerate*}\n",
       "\\item 'Segment'\n",
       "\\item 'YRMO'\n",
       "\\item 'NPI'\n",
       "\\item 'Sales'\n",
       "\\item 'Calls'\n",
       "\\item 'Patients'\n",
       "\\item 'Calls\\_log\\_k1'\n",
       "\\item 'Calls\\_log\\_k0\\_5'\n",
       "\\item 'Calls\\_log\\_k0\\_7'\n",
       "\\item 'Carryover'\n",
       "\\item 'column\\_label'\n",
       "\\item 'reach'\n",
       "\\item 'act'\n",
       "\\item 'Calls\\_norm\\_reach'\n",
       "\\item 'Calls\\_norm\\_Patients'\n",
       "\\item 'Calls\\_log\\_k1\\_norm\\_reach'\n",
       "\\item 'Calls\\_log\\_k1\\_norm\\_Patients'\n",
       "\\item 'Calls\\_log\\_k0\\_5\\_norm\\_reach'\n",
       "\\item 'Calls\\_log\\_k0\\_5\\_norm\\_Patients'\n",
       "\\item 'Calls\\_log\\_k0\\_7\\_norm\\_reach'\n",
       "\\item 'Calls\\_log\\_k0\\_7\\_norm\\_Patients'\n",
       "\\end{enumerate*}\n"
      ],
      "text/markdown": [
       "1. 'Segment'\n",
       "2. 'YRMO'\n",
       "3. 'NPI'\n",
       "4. 'Sales'\n",
       "5. 'Calls'\n",
       "6. 'Patients'\n",
       "7. 'Calls_log_k1'\n",
       "8. 'Calls_log_k0_5'\n",
       "9. 'Calls_log_k0_7'\n",
       "10. 'Carryover'\n",
       "11. 'column_label'\n",
       "12. 'reach'\n",
       "13. 'act'\n",
       "14. 'Calls_norm_reach'\n",
       "15. 'Calls_norm_Patients'\n",
       "16. 'Calls_log_k1_norm_reach'\n",
       "17. 'Calls_log_k1_norm_Patients'\n",
       "18. 'Calls_log_k0_5_norm_reach'\n",
       "19. 'Calls_log_k0_5_norm_Patients'\n",
       "20. 'Calls_log_k0_7_norm_reach'\n",
       "21. 'Calls_log_k0_7_norm_Patients'\n",
       "\n",
       "\n"
      ],
      "text/plain": [
       " [1] \"Segment\"                      \"YRMO\"                        \n",
       " [3] \"NPI\"                          \"Sales\"                       \n",
       " [5] \"Calls\"                        \"Patients\"                    \n",
       " [7] \"Calls_log_k1\"                 \"Calls_log_k0_5\"              \n",
       " [9] \"Calls_log_k0_7\"               \"Carryover\"                   \n",
       "[11] \"column_label\"                 \"reach\"                       \n",
       "[13] \"act\"                          \"Calls_norm_reach\"            \n",
       "[15] \"Calls_norm_Patients\"          \"Calls_log_k1_norm_reach\"     \n",
       "[17] \"Calls_log_k1_norm_Patients\"   \"Calls_log_k0_5_norm_reach\"   \n",
       "[19] \"Calls_log_k0_5_norm_Patients\" \"Calls_log_k0_7_norm_reach\"   \n",
       "[21] \"Calls_log_k0_7_norm_Patients\""
      ]
     },
     "metadata": {},
     "output_type": "display_data"
    }
   ],
   "source": [
    "names(model)"
   ]
  },
  {
   "cell_type": "code",
   "execution_count": 84,
   "id": "8f312132",
   "metadata": {},
   "outputs": [
    {
     "data": {
      "text/plain": [
       "$x\n",
       "[1] \"Calls\"\n",
       "\n",
       "attr(,\"class\")\n",
       "[1] \"labels\""
      ]
     },
     "metadata": {},
     "output_type": "display_data"
    },
    {
     "data": {
      "text/plain": [
       "$y\n",
       "[1] \"Sales\"\n",
       "\n",
       "attr(,\"class\")\n",
       "[1] \"labels\""
      ]
     },
     "metadata": {},
     "output_type": "display_data"
    },
    {
     "data": {
      "image/png": "[encoded data removed]",
      "text/plain": [
       "plot without title"
      ]
     },
     "metadata": {
      "image/png": {
       "height": 420,
       "width": 420
      }
     },
     "output_type": "display_data"
    }
   ],
   "source": [
    "plot(model$Calls_log_k1_norm_Patients,model$Sales)\n",
    "xlab(\"Calls\")\n",
    "ylab(\"Sales\")\n",
    "abline(lm(model$Sales ~ model$Calls_log_k1_norm_Patients))\n"
   ]
  },
  {
   "cell_type": "markdown",
   "id": "b2257301",
   "metadata": {},
   "source": [
    "### Modeling Results"
   ]
  },
  {
   "cell_type": "code",
   "execution_count": 85,
   "id": "3a49ab69",
   "metadata": {},
   "outputs": [
    {
     "data": {
      "text/plain": [
       "\n",
       "Call:\n",
       "lm(formula = Sales ~ Carryover + Calls_log_k1:Segment, data = model)\n",
       "\n",
       "Residuals:\n",
       "    Min      1Q  Median      3Q     Max \n",
       "-34.384  -0.236   0.026   0.026  36.402 \n",
       "\n",
       "Coefficients:\n",
       "                            Estimate Std. Error t value Pr(>|t|)    \n",
       "(Intercept)                -0.025744   0.005585  -4.609 4.04e-06 ***\n",
       "Carryover                   0.662022   0.002645 250.248  < 2e-16 ***\n",
       "Calls_log_k1:SegmentHigh    0.772847   0.013306  58.084  < 2e-16 ***\n",
       "Calls_log_k1:SegmentLow     0.308819   0.013377  23.085  < 2e-16 ***\n",
       "Calls_log_k1:SegmentMedium  0.378324   0.010802  35.023  < 2e-16 ***\n",
       "---\n",
       "Signif. codes:  0 '***' 0.001 '**' 0.01 '*' 0.05 '.' 0.1 ' ' 1\n",
       "\n",
       "Residual standard error: 1.175 on 82483 degrees of freedom\n",
       "Multiple R-squared:  0.4891,\tAdjusted R-squared:  0.4891 \n",
       "F-statistic: 1.974e+04 on 4 and 82483 DF,  p-value: < 2.2e-16\n"
      ]
     },
     "metadata": {},
     "output_type": "display_data"
    }
   ],
   "source": [
    "m1 <- lm(Sales ~ Carryover + Calls_log_k1:Segment, data=model)\n",
    "summary(m1)"
   ]
  },
  {
   "cell_type": "code",
   "execution_count": 86,
   "id": "2a1203f6",
   "metadata": {},
   "outputs": [
    {
     "name": "stderr",
     "output_type": "stream",
     "text": [
      "Warning message in int_abline(a = a, b = b, h = h, v = v, untf = untf, ...):\n",
      "\"\"wd\" is not a graphical parameter\"\n"
     ]
    },
    {
     "data": {
      "image/png": "[encoded data removed]",
      "text/plain": [
       "Plot with title \"Predicted vs. Actual Values\""
      ]
     },
     "metadata": {
      "image/png": {
       "height": 420,
       "width": 420
      }
     },
     "output_type": "display_data"
    }
   ],
   "source": [
    "plot(x=predict(m1), y= model$Sales,\n",
    "     xlab='Predicted Values',\n",
    "     ylab='Actual Values',\n",
    "     main='Predicted vs. Actual Values')\n",
    "abline(a=0, b=1, col = \"green\",wd = 4)"
   ]
  },
  {
   "cell_type": "code",
   "execution_count": 87,
   "id": "97f0683c",
   "metadata": {},
   "outputs": [
    {
     "data": {
      "image/png": "[encoded data removed]",
      "text/plain": [
       "plot without title"
      ]
     },
     "metadata": {
      "image/png": {
       "height": 420,
       "width": 420
      }
     },
     "output_type": "display_data"
    }
   ],
   "source": [
    "ggplot(model, aes(x = Calls_log_k1, y = Sales)) +\n",
    "  geom_line() +\n",
    "  geom_point() +\n",
    "  xlab(\"Calls Level\") +\n",
    "  ylab(\"Sales\") +\n",
    "  ggtitle(\"Promotional Response Curve\")"
   ]
  },
  {
   "cell_type": "code",
   "execution_count": 88,
   "id": "7315a8b6",
   "metadata": {
    "scrolled": false
   },
   "outputs": [
    {
     "data": {
      "text/html": [
       "<table class=\"dataframe\">\n",
       "<caption>A tibble: 5 × 5</caption>\n",
       "<thead>\n",
       "\t<tr><th scope=col>term</th><th scope=col>estimate</th><th scope=col>std.error</th><th scope=col>statistic</th><th scope=col>p.value</th></tr>\n",
       "\t<tr><th scope=col>&lt;chr&gt;</th><th scope=col>&lt;dbl&gt;</th><th scope=col>&lt;dbl&gt;</th><th scope=col>&lt;dbl&gt;</th><th scope=col>&lt;dbl&gt;</th></tr>\n",
       "</thead>\n",
       "<tbody>\n",
       "\t<tr><td>(Intercept)               </td><td>-0.0257441</td><td>0.005585143</td><td> -4.609389</td><td> 4.044576e-06</td></tr>\n",
       "\t<tr><td>Carryover                 </td><td> 0.6620219</td><td>0.002645467</td><td>250.247676</td><td> 0.000000e+00</td></tr>\n",
       "\t<tr><td>Calls_log_k1:SegmentHigh  </td><td> 0.7728471</td><td>0.013305775</td><td> 58.083585</td><td> 0.000000e+00</td></tr>\n",
       "\t<tr><td>Calls_log_k1:SegmentLow   </td><td> 0.3088187</td><td>0.013377312</td><td> 23.085260</td><td>1.539333e-117</td></tr>\n",
       "\t<tr><td>Calls_log_k1:SegmentMedium</td><td> 0.3783242</td><td>0.010802234</td><td> 35.022773</td><td>9.328660e-267</td></tr>\n",
       "</tbody>\n",
       "</table>\n"
      ],
      "text/latex": [
       "A tibble: 5 × 5\n",
       "\\begin{tabular}{lllll}\n",
       " term & estimate & std.error & statistic & p.value\\\\\n",
       " <chr> & <dbl> & <dbl> & <dbl> & <dbl>\\\\\n",
       "\\hline\n",
       "\t (Intercept)                & -0.0257441 & 0.005585143 &  -4.609389 &  4.044576e-06\\\\\n",
       "\t Carryover                  &  0.6620219 & 0.002645467 & 250.247676 &  0.000000e+00\\\\\n",
       "\t Calls\\_log\\_k1:SegmentHigh   &  0.7728471 & 0.013305775 &  58.083585 &  0.000000e+00\\\\\n",
       "\t Calls\\_log\\_k1:SegmentLow    &  0.3088187 & 0.013377312 &  23.085260 & 1.539333e-117\\\\\n",
       "\t Calls\\_log\\_k1:SegmentMedium &  0.3783242 & 0.010802234 &  35.022773 & 9.328660e-267\\\\\n",
       "\\end{tabular}\n"
      ],
      "text/markdown": [
       "\n",
       "A tibble: 5 × 5\n",
       "\n",
       "| term &lt;chr&gt; | estimate &lt;dbl&gt; | std.error &lt;dbl&gt; | statistic &lt;dbl&gt; | p.value &lt;dbl&gt; |\n",
       "|---|---|---|---|---|\n",
       "| (Intercept)                | -0.0257441 | 0.005585143 |  -4.609389 |  4.044576e-06 |\n",
       "| Carryover                  |  0.6620219 | 0.002645467 | 250.247676 |  0.000000e+00 |\n",
       "| Calls_log_k1:SegmentHigh   |  0.7728471 | 0.013305775 |  58.083585 |  0.000000e+00 |\n",
       "| Calls_log_k1:SegmentLow    |  0.3088187 | 0.013377312 |  23.085260 | 1.539333e-117 |\n",
       "| Calls_log_k1:SegmentMedium |  0.3783242 | 0.010802234 |  35.022773 | 9.328660e-267 |\n",
       "\n"
      ],
      "text/plain": [
       "  term                       estimate   std.error   statistic  p.value      \n",
       "1 (Intercept)                -0.0257441 0.005585143  -4.609389  4.044576e-06\n",
       "2 Carryover                   0.6620219 0.002645467 250.247676  0.000000e+00\n",
       "3 Calls_log_k1:SegmentHigh    0.7728471 0.013305775  58.083585  0.000000e+00\n",
       "4 Calls_log_k1:SegmentLow     0.3088187 0.013377312  23.085260 1.539333e-117\n",
       "5 Calls_log_k1:SegmentMedium  0.3783242 0.010802234  35.022773 9.328660e-267"
      ]
     },
     "metadata": {},
     "output_type": "display_data"
    }
   ],
   "source": [
    "tidy(m1)"
   ]
  },
  {
   "cell_type": "code",
   "execution_count": 89,
   "id": "042fa319",
   "metadata": {},
   "outputs": [
    {
     "data": {
      "text/plain": [
       "[[1]]\n",
       "NULL\n",
       "\n",
       "[[2]]\n",
       "NULL\n"
      ]
     },
     "metadata": {},
     "output_type": "display_data"
    },
    {
     "data": {
      "image/png": "[encoded data removed]",
      "text/plain": [
       "plot without title"
      ]
     },
     "metadata": {
      "image/png": {
       "height": 420,
       "width": 420
      }
     },
     "output_type": "display_data"
    },
    {
     "data": {
      "image/png": "[encoded data removed]",
      "text/plain": [
       "plot without title"
      ]
     },
     "metadata": {
      "image/png": {
       "height": 420,
       "width": 420
      }
     },
     "output_type": "display_data"
    }
   ],
   "source": [
    "olsrr::ols_plot_dfbetas(m1)"
   ]
  },
  {
   "cell_type": "code",
   "execution_count": null,
   "id": "0105dd14",
   "metadata": {},
   "outputs": [],
   "source": []
  }
 ],
 "metadata": {
  "hide_input": false,
  "kernelspec": {
   "display_name": "R",
   "language": "R",
   "name": "ir"
  },
  "language_info": {
   "codemirror_mode": "r",
   "file_extension": ".r",
   "mimetype": "text/x-r-source",
   "name": "R",
   "pygments_lexer": "r",
   "version": "4.2.2"
  }
 },
 "nbformat": 4,
 "nbformat_minor": 5
}
