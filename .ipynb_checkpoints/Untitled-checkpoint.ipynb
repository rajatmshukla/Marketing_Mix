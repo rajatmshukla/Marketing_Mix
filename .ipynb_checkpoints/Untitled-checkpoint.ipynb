{
 "cells": [
  {
   "cell_type": "code",
   "execution_count": 1,
   "id": "c0d5cc93",
   "metadata": {},
   "outputs": [
    {
     "name": "stderr",
     "output_type": "stream",
     "text": [
      "\n",
      "Attaching package: 'dplyr'\n",
      "\n",
      "\n",
      "The following objects are masked from 'package:data.table':\n",
      "\n",
      "    between, first, last\n",
      "\n",
      "\n",
      "The following objects are masked from 'package:stats':\n",
      "\n",
      "    filter, lag\n",
      "\n",
      "\n",
      "The following objects are masked from 'package:base':\n",
      "\n",
      "    intersect, setdiff, setequal, union\n",
      "\n",
      "\n",
      "------------------------------------------------------------------------------\n",
      "\n",
      "You have loaded plyr after dplyr - this is likely to cause problems.\n",
      "If you need functions from both plyr and dplyr, please load plyr first, then dplyr:\n",
      "library(plyr); library(dplyr)\n",
      "\n",
      "------------------------------------------------------------------------------\n",
      "\n",
      "\n",
      "Attaching package: 'plyr'\n",
      "\n",
      "\n",
      "The following objects are masked from 'package:dplyr':\n",
      "\n",
      "    arrange, count, desc, failwith, id, mutate, rename, summarise,\n",
      "    summarize\n",
      "\n",
      "\n",
      "Loading required package: timechange\n",
      "\n",
      "\n",
      "Attaching package: 'lubridate'\n",
      "\n",
      "\n",
      "The following objects are masked from 'package:data.table':\n",
      "\n",
      "    hour, isoweek, mday, minute, month, quarter, second, wday, week,\n",
      "    yday, year\n",
      "\n",
      "\n",
      "The following objects are masked from 'package:base':\n",
      "\n",
      "    date, intersect, setdiff, union\n",
      "\n",
      "\n",
      "\n",
      "Attaching package: 'reshape2'\n",
      "\n",
      "\n",
      "The following objects are masked from 'package:data.table':\n",
      "\n",
      "    dcast, melt\n",
      "\n",
      "\n",
      "\n",
      "Attaching package: 'arrow'\n",
      "\n",
      "\n",
      "The following object is masked from 'package:lubridate':\n",
      "\n",
      "    duration\n",
      "\n",
      "\n",
      "The following object is masked from 'package:utils':\n",
      "\n",
      "    timestamp\n",
      "\n",
      "\n",
      "── \u001b[1mAttaching packages\u001b[22m ─────────────────────────────────────────────────────────────────────────────── tidyverse 1.3.2 ──\n",
      "\u001b[32m✔\u001b[39m \u001b[34mggplot2\u001b[39m 3.4.0     \u001b[32m✔\u001b[39m \u001b[34mpurrr  \u001b[39m 0.3.5\n",
      "\u001b[32m✔\u001b[39m \u001b[34mtibble \u001b[39m 3.1.8     \u001b[32m✔\u001b[39m \u001b[34mforcats\u001b[39m 0.5.2\n",
      "\u001b[32m✔\u001b[39m \u001b[34mtidyr  \u001b[39m 1.2.1     \n",
      "── \u001b[1mConflicts\u001b[22m ────────────────────────────────────────────────────────────────────────────────── tidyverse_conflicts() ──\n",
      "\u001b[31m✖\u001b[39m \u001b[34mplyr\u001b[39m::\u001b[32marrange()\u001b[39m          masks \u001b[34mdplyr\u001b[39m::arrange()\n",
      "\u001b[31m✖\u001b[39m \u001b[34mlubridate\u001b[39m::\u001b[32mas.difftime()\u001b[39m masks \u001b[34mbase\u001b[39m::as.difftime()\n",
      "\u001b[31m✖\u001b[39m \u001b[34mdplyr\u001b[39m::\u001b[32mbetween()\u001b[39m         masks \u001b[34mdata.table\u001b[39m::between()\n",
      "\u001b[31m✖\u001b[39m \u001b[34mpurrr\u001b[39m::\u001b[32mcompact()\u001b[39m         masks \u001b[34mplyr\u001b[39m::compact()\n",
      "\u001b[31m✖\u001b[39m \u001b[34mplyr\u001b[39m::\u001b[32mcount()\u001b[39m            masks \u001b[34mdplyr\u001b[39m::count()\n",
      "\u001b[31m✖\u001b[39m \u001b[34mlubridate\u001b[39m::\u001b[32mdate()\u001b[39m        masks \u001b[34mbase\u001b[39m::date()\n",
      "\u001b[31m✖\u001b[39m \u001b[34marrow\u001b[39m::\u001b[32mduration()\u001b[39m        masks \u001b[34mlubridate\u001b[39m::duration()\n",
      "\u001b[31m✖\u001b[39m \u001b[34mplyr\u001b[39m::\u001b[32mfailwith()\u001b[39m         masks \u001b[34mdplyr\u001b[39m::failwith()\n",
      "\u001b[31m✖\u001b[39m \u001b[34mdplyr\u001b[39m::\u001b[32mfilter()\u001b[39m          masks \u001b[34mstats\u001b[39m::filter()\n",
      "\u001b[31m✖\u001b[39m \u001b[34mdplyr\u001b[39m::\u001b[32mfirst()\u001b[39m           masks \u001b[34mdata.table\u001b[39m::first()\n",
      "\u001b[31m✖\u001b[39m \u001b[34mlubridate\u001b[39m::\u001b[32mhour()\u001b[39m        masks \u001b[34mdata.table\u001b[39m::hour()\n",
      "\u001b[31m✖\u001b[39m \u001b[34mplyr\u001b[39m::\u001b[32mid()\u001b[39m               masks \u001b[34mdplyr\u001b[39m::id()\n",
      "\u001b[31m✖\u001b[39m \u001b[34mlubridate\u001b[39m::\u001b[32mintersect()\u001b[39m   masks \u001b[34mbase\u001b[39m::intersect()\n",
      "\u001b[31m✖\u001b[39m \u001b[34mlubridate\u001b[39m::\u001b[32misoweek()\u001b[39m     masks \u001b[34mdata.table\u001b[39m::isoweek()\n",
      "\u001b[31m✖\u001b[39m \u001b[34mdplyr\u001b[39m::\u001b[32mlag()\u001b[39m             masks \u001b[34mstats\u001b[39m::lag()\n",
      "\u001b[31m✖\u001b[39m \u001b[34mdplyr\u001b[39m::\u001b[32mlast()\u001b[39m            masks \u001b[34mdata.table\u001b[39m::last()\n",
      "\u001b[31m✖\u001b[39m \u001b[34mlubridate\u001b[39m::\u001b[32mmday()\u001b[39m        masks \u001b[34mdata.table\u001b[39m::mday()\n",
      "\u001b[31m✖\u001b[39m \u001b[34mlubridate\u001b[39m::\u001b[32mminute()\u001b[39m      masks \u001b[34mdata.table\u001b[39m::minute()\n",
      "\u001b[31m✖\u001b[39m \u001b[34mlubridate\u001b[39m::\u001b[32mmonth()\u001b[39m       masks \u001b[34mdata.table\u001b[39m::month()\n",
      "\u001b[31m✖\u001b[39m \u001b[34mplyr\u001b[39m::\u001b[32mmutate()\u001b[39m           masks \u001b[34mdplyr\u001b[39m::mutate()\n",
      "\u001b[31m✖\u001b[39m \u001b[34mlubridate\u001b[39m::\u001b[32mquarter()\u001b[39m     masks \u001b[34mdata.table\u001b[39m::quarter()\n",
      "\u001b[31m✖\u001b[39m \u001b[34mplyr\u001b[39m::\u001b[32mrename()\u001b[39m           masks \u001b[34mdplyr\u001b[39m::rename()\n",
      "\u001b[31m✖\u001b[39m \u001b[34mlubridate\u001b[39m::\u001b[32msecond()\u001b[39m      masks \u001b[34mdata.table\u001b[39m::second()\n",
      "\u001b[31m✖\u001b[39m \u001b[34mlubridate\u001b[39m::\u001b[32msetdiff()\u001b[39m     masks \u001b[34mbase\u001b[39m::setdiff()\n",
      "\u001b[31m✖\u001b[39m \u001b[34mplyr\u001b[39m::\u001b[32msummarise()\u001b[39m        masks \u001b[34mdplyr\u001b[39m::summarise()\n",
      "\u001b[31m✖\u001b[39m \u001b[34mplyr\u001b[39m::\u001b[32msummarize()\u001b[39m        masks \u001b[34mdplyr\u001b[39m::summarize()\n",
      "\u001b[31m✖\u001b[39m \u001b[34mpurrr\u001b[39m::\u001b[32mtranspose()\u001b[39m       masks \u001b[34mdata.table\u001b[39m::transpose()\n",
      "\u001b[31m✖\u001b[39m \u001b[34mlubridate\u001b[39m::\u001b[32munion()\u001b[39m       masks \u001b[34mbase\u001b[39m::union()\n",
      "\u001b[31m✖\u001b[39m \u001b[34mlubridate\u001b[39m::\u001b[32mwday()\u001b[39m        masks \u001b[34mdata.table\u001b[39m::wday()\n",
      "\u001b[31m✖\u001b[39m \u001b[34mlubridate\u001b[39m::\u001b[32mweek()\u001b[39m        masks \u001b[34mdata.table\u001b[39m::week()\n",
      "\u001b[31m✖\u001b[39m \u001b[34mlubridate\u001b[39m::\u001b[32myday()\u001b[39m        masks \u001b[34mdata.table\u001b[39m::yday()\n",
      "\u001b[31m✖\u001b[39m \u001b[34mlubridate\u001b[39m::\u001b[32myear()\u001b[39m        masks \u001b[34mdata.table\u001b[39m::year()\n"
     ]
    }
   ],
   "source": [
    "library(data.table)\n",
    "library(dplyr)\n",
    "library(stringr)\n",
    "library(stringi)\n",
    "library(rio)\n",
    "library(readxl)\n",
    "library(writexl)\n",
    "library(readr)\n",
    "library(readxlsb)\n",
    "library(data.table)\n",
    "library(plyr)\n",
    "library(lubridate)\n",
    "library(reshape2)\n",
    "library(anytime)\n",
    "library(arrow)\n",
    "library(openxlsx)\n",
    "library(tidyverse)\n",
    "library(broom)\n",
    "library(ggcorrplot)\n",
    "library(DataExplorer)\n",
    "library(anytime)"
   ]
  },
  {
   "cell_type": "markdown",
   "id": "3b4ae9d1",
   "metadata": {},
   "source": [
    "### Reading Data"
   ]
  },
  {
   "cell_type": "code",
   "execution_count": 2,
   "id": "f60b848d",
   "metadata": {},
   "outputs": [],
   "source": [
    "db_calls <- read_excel(\"Copy of Customer data.xlsx\",sheet=\"Calls\")\n",
    "db_sales <- read_excel(\"Copy of Customer data.xlsx\",sheet=\"Sales\")\n",
    "setDT(db_calls)\n",
    "setDT(db_sales)"
   ]
  },
  {
   "cell_type": "markdown",
   "id": "a8a1fc0e",
   "metadata": {},
   "source": [
    "### Data Processing"
   ]
  },
  {
   "cell_type": "code",
   "execution_count": 3,
   "id": "2117a3d3",
   "metadata": {
    "scrolled": false
   },
   "outputs": [
    {
     "data": {
      "text/html": [
       "<table class=\"dataframe\">\n",
       "<caption>A data.frame: 2 × 5</caption>\n",
       "<thead>\n",
       "\t<tr><th></th><th scope=col>NPI</th><th scope=col>Segment</th><th scope=col>Date</th><th scope=col>Sales</th><th scope=col>Week1</th></tr>\n",
       "\t<tr><th></th><th scope=col>&lt;dbl&gt;</th><th scope=col>&lt;chr&gt;</th><th scope=col>&lt;chr&gt;</th><th scope=col>&lt;dbl&gt;</th><th scope=col>&lt;date&gt;</th></tr>\n",
       "</thead>\n",
       "<tbody>\n",
       "\t<tr><th scope=row>1</th><td>3854648575</td><td>Low </td><td>44785</td><td>0</td><td>2022-08-12</td></tr>\n",
       "\t<tr><th scope=row>2</th><td>6597938497</td><td>High</td><td>44785</td><td>0</td><td>2022-08-12</td></tr>\n",
       "</tbody>\n",
       "</table>\n"
      ],
      "text/latex": [
       "A data.frame: 2 × 5\n",
       "\\begin{tabular}{r|lllll}\n",
       "  & NPI & Segment & Date & Sales & Week1\\\\\n",
       "  & <dbl> & <chr> & <chr> & <dbl> & <date>\\\\\n",
       "\\hline\n",
       "\t1 & 3854648575 & Low  & 44785 & 0 & 2022-08-12\\\\\n",
       "\t2 & 6597938497 & High & 44785 & 0 & 2022-08-12\\\\\n",
       "\\end{tabular}\n"
      ],
      "text/markdown": [
       "\n",
       "A data.frame: 2 × 5\n",
       "\n",
       "| <!--/--> | NPI &lt;dbl&gt; | Segment &lt;chr&gt; | Date &lt;chr&gt; | Sales &lt;dbl&gt; | Week1 &lt;date&gt; |\n",
       "|---|---|---|---|---|---|\n",
       "| 1 | 3854648575 | Low  | 44785 | 0 | 2022-08-12 |\n",
       "| 2 | 6597938497 | High | 44785 | 0 | 2022-08-12 |\n",
       "\n"
      ],
      "text/plain": [
       "  NPI        Segment Date  Sales Week1     \n",
       "1 3854648575 Low     44785 0     2022-08-12\n",
       "2 6597938497 High    44785 0     2022-08-12"
      ]
     },
     "metadata": {},
     "output_type": "display_data"
    },
    {
     "data": {
      "text/plain": [
       "      NPI              Segment              Date               Sales         \n",
       " Min.   :1.001e+09   Length:552084      Length:552084      Min.   : 0.00000  \n",
       " 1st Qu.:3.243e+09   Class :character   Class :character   1st Qu.: 0.00000  \n",
       " Median :5.475e+09   Mode  :character   Mode  :character   Median : 0.00000  \n",
       " Mean   :5.479e+09                                         Mean   : 0.08169  \n",
       " 3rd Qu.:7.726e+09                                         3rd Qu.: 0.00000  \n",
       " Max.   :9.999e+09                                         Max.   :26.07100  \n",
       "     Week1           \n",
       " Min.   :2022-08-12  \n",
       " 1st Qu.:2022-10-14  \n",
       " Median :2022-12-23  \n",
       " Mean   :2022-12-23  \n",
       " 3rd Qu.:2023-03-03  \n",
       " Max.   :2023-05-05  "
      ]
     },
     "metadata": {},
     "output_type": "display_data"
    }
   ],
   "source": [
    "#Sales Data Gathering\n",
    "db_sales_1 <- gather(db_sales, key = \"Date\", value = \"Sales\", `44785`:`45051`)\n",
    "db_sales_1$Week1 <- as.Date(as.numeric(db_sales_1$Date), origin = \"1899-12-30\")\n",
    "head(db_sales_1,2)\n",
    "summary(db_sales_1)"
   ]
  },
  {
   "cell_type": "code",
   "execution_count": 4,
   "id": "ffd160b5",
   "metadata": {},
   "outputs": [
    {
     "data": {
      "text/html": [
       "<table class=\"dataframe\">\n",
       "<caption>A data.frame: 2 × 5</caption>\n",
       "<thead>\n",
       "\t<tr><th></th><th scope=col>NPI</th><th scope=col>Segment</th><th scope=col>Date</th><th scope=col>Calls</th><th scope=col>Week1</th></tr>\n",
       "\t<tr><th></th><th scope=col>&lt;dbl&gt;</th><th scope=col>&lt;chr&gt;</th><th scope=col>&lt;chr&gt;</th><th scope=col>&lt;dbl&gt;</th><th scope=col>&lt;date&gt;</th></tr>\n",
       "</thead>\n",
       "<tbody>\n",
       "\t<tr><th scope=row>1</th><td>3854648575</td><td>Low </td><td>44771</td><td>0</td><td>2022-07-29</td></tr>\n",
       "\t<tr><th scope=row>2</th><td>6597938497</td><td>High</td><td>44771</td><td>0</td><td>2022-07-29</td></tr>\n",
       "</tbody>\n",
       "</table>\n"
      ],
      "text/latex": [
       "A data.frame: 2 × 5\n",
       "\\begin{tabular}{r|lllll}\n",
       "  & NPI & Segment & Date & Calls & Week1\\\\\n",
       "  & <dbl> & <chr> & <chr> & <dbl> & <date>\\\\\n",
       "\\hline\n",
       "\t1 & 3854648575 & Low  & 44771 & 0 & 2022-07-29\\\\\n",
       "\t2 & 6597938497 & High & 44771 & 0 & 2022-07-29\\\\\n",
       "\\end{tabular}\n"
      ],
      "text/markdown": [
       "\n",
       "A data.frame: 2 × 5\n",
       "\n",
       "| <!--/--> | NPI &lt;dbl&gt; | Segment &lt;chr&gt; | Date &lt;chr&gt; | Calls &lt;dbl&gt; | Week1 &lt;date&gt; |\n",
       "|---|---|---|---|---|---|\n",
       "| 1 | 3854648575 | Low  | 44771 | 0 | 2022-07-29 |\n",
       "| 2 | 6597938497 | High | 44771 | 0 | 2022-07-29 |\n",
       "\n"
      ],
      "text/plain": [
       "  NPI        Segment Date  Calls Week1     \n",
       "1 3854648575 Low     44771 0     2022-07-29\n",
       "2 6597938497 High    44771 0     2022-07-29"
      ]
     },
     "metadata": {},
     "output_type": "display_data"
    },
    {
     "data": {
      "text/plain": [
       "      NPI              Segment              Date               Calls       \n",
       " Min.   :1.001e+09   Length:580396      Length:580396      Min.   :0.0000  \n",
       " 1st Qu.:3.243e+09   Class :character   Class :character   1st Qu.:0.0000  \n",
       " Median :5.475e+09   Mode  :character   Mode  :character   Median :0.0000  \n",
       " Mean   :5.479e+09                                         Mean   :0.1411  \n",
       " 3rd Qu.:7.726e+09                                         3rd Qu.:0.0000  \n",
       " Max.   :9.999e+09                                         Max.   :6.0000  \n",
       "     Week1           \n",
       " Min.   :2022-07-29  \n",
       " 1st Qu.:2022-10-07  \n",
       " Median :2022-12-16  \n",
       " Mean   :2022-12-16  \n",
       " 3rd Qu.:2023-02-24  \n",
       " Max.   :2023-05-05  "
      ]
     },
     "metadata": {},
     "output_type": "display_data"
    }
   ],
   "source": [
    "#Calls Data Gathering\n",
    "db_calls_1 <- gather(db_calls, key = \"Date\", value = \"Calls\", `44771`:`45051`)\n",
    "db_calls_1$Week1 <- as.Date(as.numeric(db_calls_1$Date), origin = \"1899-12-30\")\n",
    "head(db_calls_1,2)\n",
    "summary(db_calls_1)"
   ]
  },
  {
   "cell_type": "code",
   "execution_count": 5,
   "id": "1029e7c6",
   "metadata": {},
   "outputs": [],
   "source": [
    "mdb_a <- merge(x=db_sales_1,y=db_calls_1,by=c(\"NPI\",\"Segment\",\"Week1\",\"Date\"),all=T)\n",
    "mdb_a$Date <- NULL\n",
    "mdb_a$YRMO <- as.numeric(format(mdb_a$Week, \"%Y%m\"))\n",
    "mdb_a[is.na(mdb_a)] <- 0\n",
    "mdb <- setDT(copy(mdb_a))"
   ]
  },
  {
   "cell_type": "code",
   "execution_count": 7,
   "id": "af4980ea",
   "metadata": {},
   "outputs": [
    {
     "data": {
      "text/html": [
       "<style>\n",
       ".dl-inline {width: auto; margin:0; padding: 0}\n",
       ".dl-inline>dt, .dl-inline>dd {float: none; width: auto; display: inline-block}\n",
       ".dl-inline>dt::after {content: \":\\0020\"; padding-right: .5ex}\n",
       ".dl-inline>dt:not(:first-of-type) {padding-left: .5ex}\n",
       "</style><dl class=dl-inline><dt>NPI</dt><dd>3025120125717651</dd><dt>Sales</dt><dd>45100.815</dd></dl>\n"
      ],
      "text/latex": [
       "\\begin{description*}\n",
       "\\item[NPI] 3025120125717651\n",
       "\\item[Sales] 45100.815\n",
       "\\end{description*}\n"
      ],
      "text/markdown": [
       "NPI\n",
       ":   3025120125717651Sales\n",
       ":   45100.815\n",
       "\n"
      ],
      "text/plain": [
       "         NPI        Sales \n",
       "3.025120e+15 4.510082e+04 "
      ]
     },
     "metadata": {},
     "output_type": "display_data"
    },
    {
     "data": {
      "text/html": [
       "<style>\n",
       ".dl-inline {width: auto; margin:0; padding: 0}\n",
       ".dl-inline>dt, .dl-inline>dd {float: none; width: auto; display: inline-block}\n",
       ".dl-inline>dt::after {content: \":\\0020\"; padding-right: .5ex}\n",
       ".dl-inline>dt:not(:first-of-type) {padding-left: .5ex}\n",
       "</style><dl class=dl-inline><dt>NPI</dt><dd>3180254491139069</dd><dt>Calls</dt><dd>81893</dd></dl>\n"
      ],
      "text/latex": [
       "\\begin{description*}\n",
       "\\item[NPI] 3180254491139069\n",
       "\\item[Calls] 81893\n",
       "\\end{description*}\n"
      ],
      "text/markdown": [
       "NPI\n",
       ":   3180254491139069Calls\n",
       ":   81893\n",
       "\n"
      ],
      "text/plain": [
       "         NPI        Calls \n",
       "3.180254e+15 8.189300e+04 "
      ]
     },
     "metadata": {},
     "output_type": "display_data"
    },
    {
     "data": {
      "text/html": [
       "<style>\n",
       ".dl-inline {width: auto; margin:0; padding: 0}\n",
       ".dl-inline>dt, .dl-inline>dd {float: none; width: auto; display: inline-block}\n",
       ".dl-inline>dt::after {content: \":\\0020\"; padding-right: .5ex}\n",
       ".dl-inline>dt:not(:first-of-type) {padding-left: .5ex}\n",
       "</style><dl class=dl-inline><dt>NPI</dt><dd>3180254491139069</dd><dt>Sales</dt><dd>45100.815</dd><dt>Calls</dt><dd>81893</dd><dt>YRMO</dt><dd>117385459056</dd></dl>\n"
      ],
      "text/latex": [
       "\\begin{description*}\n",
       "\\item[NPI] 3180254491139069\n",
       "\\item[Sales] 45100.815\n",
       "\\item[Calls] 81893\n",
       "\\item[YRMO] 117385459056\n",
       "\\end{description*}\n"
      ],
      "text/markdown": [
       "NPI\n",
       ":   3180254491139069Sales\n",
       ":   45100.815Calls\n",
       ":   81893YRMO\n",
       ":   117385459056\n",
       "\n"
      ],
      "text/plain": [
       "         NPI        Sales        Calls         YRMO \n",
       "3.180254e+15 4.510082e+04 8.189300e+04 1.173855e+11 "
      ]
     },
     "metadata": {},
     "output_type": "display_data"
    }
   ],
   "source": [
    "colSums(db_sales_1[, sapply(db_sales_1, is.numeric)])\n",
    "colSums(db_calls_1[, sapply(db_calls_1, is.numeric)])\n",
    "colSums(mdb_a[, sapply(mdb_a, is.numeric)])"
   ]
  },
  {
   "cell_type": "code",
   "execution_count": 9,
   "id": "dba0d763",
   "metadata": {},
   "outputs": [
    {
     "data": {
      "text/html": [
       "<table class=\"dataframe\">\n",
       "<caption>A data.table: 4 × 3</caption>\n",
       "<thead>\n",
       "\t<tr><th scope=col>Segment</th><th scope=col>Sales</th><th scope=col>Calls</th></tr>\n",
       "\t<tr><th scope=col>&lt;chr&gt;</th><th scope=col>&lt;dbl&gt;</th><th scope=col>&lt;dbl&gt;</th></tr>\n",
       "</thead>\n",
       "<tbody>\n",
       "\t<tr><td>-     </td><td> 2481.979</td><td>11717</td></tr>\n",
       "\t<tr><td>High  </td><td>17113.592</td><td>18623</td></tr>\n",
       "\t<tr><td>Medium</td><td>16620.868</td><td>32656</td></tr>\n",
       "\t<tr><td>Low   </td><td> 8884.376</td><td>18897</td></tr>\n",
       "</tbody>\n",
       "</table>\n"
      ],
      "text/latex": [
       "A data.table: 4 × 3\n",
       "\\begin{tabular}{lll}\n",
       " Segment & Sales & Calls\\\\\n",
       " <chr> & <dbl> & <dbl>\\\\\n",
       "\\hline\n",
       "\t -      &  2481.979 & 11717\\\\\n",
       "\t High   & 17113.592 & 18623\\\\\n",
       "\t Medium & 16620.868 & 32656\\\\\n",
       "\t Low    &  8884.376 & 18897\\\\\n",
       "\\end{tabular}\n"
      ],
      "text/markdown": [
       "\n",
       "A data.table: 4 × 3\n",
       "\n",
       "| Segment &lt;chr&gt; | Sales &lt;dbl&gt; | Calls &lt;dbl&gt; |\n",
       "|---|---|---|\n",
       "| -      |  2481.979 | 11717 |\n",
       "| High   | 17113.592 | 18623 |\n",
       "| Medium | 16620.868 | 32656 |\n",
       "| Low    |  8884.376 | 18897 |\n",
       "\n"
      ],
      "text/plain": [
       "  Segment Sales     Calls\n",
       "1 -        2481.979 11717\n",
       "2 High    17113.592 18623\n",
       "3 Medium  16620.868 32656\n",
       "4 Low      8884.376 18897"
      ]
     },
     "metadata": {},
     "output_type": "display_data"
    }
   ],
   "source": [
    "mdb[,lapply(.SD, sum, na.rm=TRUE),by=\"Segment\",.SDcols = c(\"Sales\",\"Calls\")]"
   ]
  },
  {
   "cell_type": "code",
   "execution_count": 32,
   "id": "29c0b1fe",
   "metadata": {},
   "outputs": [],
   "source": [
    "mdb_week <- mdb[,lapply(.SD, sum, na.rm=TRUE),by=c(\"NPI\",\"Segment\",\"Week1\"),.SDcols = c(\"Sales\",\"Calls\")]\n",
    "mdb_week <- complete(mdb_week,NPI,Week1)\n",
    "setDT(mdb_week)\n",
    "mdb_week[is.na(mdb_week)] <- 0\n",
    "mdb_week <- mdb_week %>% arrange(NPI, Week1)"
   ]
  },
  {
   "cell_type": "code",
   "execution_count": 33,
   "id": "a5911ada",
   "metadata": {},
   "outputs": [],
   "source": [
    "mdb_month <- mdb[,lapply(.SD, sum, na.rm=TRUE),by=c(\"NPI\",\"Segment\",\"YRMO\"),.SDcols = c(\"Sales\",\"Calls\")]\n",
    "mdb_month <- complete(mdb_month,NPI,YRMO)\n",
    "setDT(mdb_month)\n",
    "mdb_month[is.na(mdb_month)] <- 0\n",
    "mdb_month <- mdb_month %>% arrange(NPI, YRMO)"
   ]
  },
  {
   "cell_type": "code",
   "execution_count": null,
   "id": "3c372856",
   "metadata": {},
   "outputs": [],
   "source": []
  },
  {
   "cell_type": "code",
   "execution_count": null,
   "id": "48cacdd7",
   "metadata": {},
   "outputs": [],
   "source": []
  },
  {
   "cell_type": "code",
   "execution_count": null,
   "id": "0880bf46",
   "metadata": {},
   "outputs": [],
   "source": []
  },
  {
   "cell_type": "code",
   "execution_count": null,
   "id": "81a2cbe8",
   "metadata": {},
   "outputs": [],
   "source": []
  }
 ],
 "metadata": {
  "hide_input": false,
  "kernelspec": {
   "display_name": "R",
   "language": "R",
   "name": "ir"
  },
  "language_info": {
   "codemirror_mode": "r",
   "file_extension": ".r",
   "mimetype": "text/x-r-source",
   "name": "R",
   "pygments_lexer": "r",
   "version": "4.2.2"
  }
 },
 "nbformat": 4,
 "nbformat_minor": 5
}
